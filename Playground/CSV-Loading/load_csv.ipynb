{
 "cells": [
  {
   "cell_type": "markdown",
   "id": "c7f5ff55",
   "metadata": {},
   "source": [
    "## Folder Path"
   ]
  },
  {
   "cell_type": "code",
   "execution_count": 1,
   "id": "05c3254b",
   "metadata": {},
   "outputs": [],
   "source": [
    "input_folder_path = \"../../Input/csv_files/\""
   ]
  },
  {
   "cell_type": "markdown",
   "id": "e7d0bab4",
   "metadata": {},
   "source": [
    "## Libraries Import"
   ]
  },
  {
   "cell_type": "code",
   "execution_count": 2,
   "id": "8f11afa8",
   "metadata": {},
   "outputs": [],
   "source": [
    "from neo4j import GraphDatabase\n",
    "import pandas as pd\n",
    "import os"
   ]
  },
  {
   "cell_type": "markdown",
   "id": "5f32b1d8",
   "metadata": {},
   "source": [
    "## Data Loading"
   ]
  },
  {
   "cell_type": "code",
   "execution_count": 3,
   "id": "d3b95146",
   "metadata": {},
   "outputs": [],
   "source": [
    "df = pd.read_csv(os.path.abspath(os.path.join(input_folder_path, \"sample_cast_1.csv\")))"
   ]
  },
  {
   "cell_type": "markdown",
   "id": "8ef4a323",
   "metadata": {},
   "source": [
    "## Neo4j Config"
   ]
  },
  {
   "cell_type": "code",
   "execution_count": 4,
   "id": "8e5845ab",
   "metadata": {},
   "outputs": [],
   "source": [
    "# Load config from file\n",
    "def load_neo4j_config(filepath):\n",
    "    config = {}\n",
    "    with open(filepath, 'r') as file:\n",
    "        for line in file:\n",
    "            if '=' in line:\n",
    "                key, value = line.strip().split('=', 1)\n",
    "                config[key] = value\n",
    "    return config"
   ]
  },
  {
   "cell_type": "code",
   "execution_count": 5,
   "id": "c175714c",
   "metadata": {},
   "outputs": [],
   "source": [
    "config = load_neo4j_config(\"../Encryption/Neo4j-1cf46bb6-Created-2025-04-10.txt\")"
   ]
  },
  {
   "cell_type": "code",
   "execution_count": 6,
   "id": "fb2af400",
   "metadata": {},
   "outputs": [],
   "source": [
    "uri = config.get(\"NEO4J_URI\")\n",
    "username = config.get(\"NEO4J_USERNAME\")\n",
    "password = config.get(\"NEO4J_PASSWORD\")"
   ]
  },
  {
   "cell_type": "markdown",
   "id": "bdafbdd7",
   "metadata": {},
   "source": [
    "## Driver Initialisation"
   ]
  },
  {
   "cell_type": "code",
   "execution_count": 7,
   "id": "1fb39ed7",
   "metadata": {},
   "outputs": [],
   "source": [
    "# Create driver\n",
    "driver = GraphDatabase.driver(uri, auth=(username, password))"
   ]
  },
  {
   "cell_type": "markdown",
   "id": "2c101c49",
   "metadata": {},
   "source": [
    "## Test Connection"
   ]
  },
  {
   "cell_type": "code",
   "execution_count": 8,
   "id": "76985ca9",
   "metadata": {},
   "outputs": [],
   "source": [
    "# Example query to test\n",
    "def test_connection():\n",
    "    with driver.session() as session:\n",
    "        result = session.run(\"RETURN 'Connection successful!' AS message\")\n",
    "        print(result.single()[\"message\"])"
   ]
  },
  {
   "cell_type": "code",
   "execution_count": 9,
   "id": "44cf91bd",
   "metadata": {},
   "outputs": [
    {
     "name": "stdout",
     "output_type": "stream",
     "text": [
      "Connection successful!\n"
     ]
    }
   ],
   "source": [
    "test_connection()"
   ]
  },
  {
   "cell_type": "markdown",
   "id": "e168c346",
   "metadata": {},
   "source": [
    "## Data Loading"
   ]
  },
  {
   "cell_type": "code",
   "execution_count": 10,
   "id": "e0ab03b4",
   "metadata": {},
   "outputs": [],
   "source": [
    "def load_data(tx, personId, name, birthYear):\n",
    "    query = \"\"\"\n",
    "        MERGE (p: Person {personId: $personId})\n",
    "        SET p.name = $name, p.birthYear = $birthYear\n",
    "    \"\"\"\n",
    "    \n",
    "    tx.run(query, personId=personId, name=name, birthYear=birthYear)"
   ]
  },
  {
   "cell_type": "code",
   "execution_count": 11,
   "id": "a970dd89",
   "metadata": {},
   "outputs": [
    {
     "name": "stdout",
     "output_type": "stream",
     "text": [
      "CSV file successfully loaded into Neo4j.\n"
     ]
    }
   ],
   "source": [
    "with driver.session() as session:\n",
    "    for index, row in df.iterrows():\n",
    "        session.execute_write(load_data, row['personId'], row['name'], row['birthYear'])\n",
    "        \n",
    "print(\"CSV file successfully loaded into Neo4j.\")"
   ]
  },
  {
   "cell_type": "markdown",
   "id": "4ec17060",
   "metadata": {},
   "source": [
    "## View Data"
   ]
  },
  {
   "cell_type": "code",
   "execution_count": 12,
   "id": "c518d600",
   "metadata": {},
   "outputs": [],
   "source": [
    "def view_data(tx):\n",
    "    query = \"\"\"\n",
    "        MATCH (p:Person)\n",
    "        RETURN p.personId AS personId, p.name AS name, p.birthYear AS birthYear\n",
    "    \"\"\"\n",
    "    result = tx.run(query)\n",
    "    \n",
    "    return [record.data() for record in result]"
   ]
  },
  {
   "cell_type": "code",
   "execution_count": 13,
   "id": "6d13967c",
   "metadata": {},
   "outputs": [
    {
     "name": "stdout",
     "output_type": "stream",
     "text": [
      "{'personId': 23945, 'name': 'Gerard Pires', 'birthYear': 1942}\n",
      "{'personId': 553509, 'name': 'Helen Reddy', 'birthYear': 1941}\n",
      "{'personId': 113934, 'name': 'Susan Flannery', 'birthYear': 1939}\n"
     ]
    }
   ],
   "source": [
    "with driver.session() as session:\n",
    "    people = session.execute_read(view_data)\n",
    "    \n",
    "    for person in people:\n",
    "        print(person)"
   ]
  },
  {
   "cell_type": "code",
   "execution_count": 14,
   "id": "e49ef3e1",
   "metadata": {},
   "outputs": [],
   "source": [
    "driver.close()"
   ]
  }
 ],
 "metadata": {
  "kernelspec": {
   "display_name": "venv",
   "language": "python",
   "name": "python3"
  },
  "language_info": {
   "codemirror_mode": {
    "name": "ipython",
    "version": 3
   },
   "file_extension": ".py",
   "mimetype": "text/x-python",
   "name": "python",
   "nbconvert_exporter": "python",
   "pygments_lexer": "ipython3",
   "version": "3.13.1"
  }
 },
 "nbformat": 4,
 "nbformat_minor": 5
}
