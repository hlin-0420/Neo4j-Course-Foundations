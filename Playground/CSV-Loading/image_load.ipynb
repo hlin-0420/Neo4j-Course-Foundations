{
 "cells": [
  {
   "cell_type": "code",
   "execution_count": 1,
   "id": "296d1ad7",
   "metadata": {},
   "outputs": [],
   "source": [
    "from neo4j import GraphDatabase\n",
    "import pandas as pd\n",
    "import os"
   ]
  },
  {
   "cell_type": "markdown",
   "id": "aba69bc4",
   "metadata": {},
   "source": [
    "## Folder Path"
   ]
  },
  {
   "cell_type": "code",
   "execution_count": 2,
   "id": "4db8102d",
   "metadata": {},
   "outputs": [],
   "source": [
    "input_folder_path = \"../../Input/csv_files/\""
   ]
  },
  {
   "cell_type": "markdown",
   "id": "d1e3b239",
   "metadata": {},
   "source": [
    "## Data Loading"
   ]
  },
  {
   "cell_type": "code",
   "execution_count": 3,
   "id": "8d94c79f",
   "metadata": {},
   "outputs": [],
   "source": [
    "df = pd.read_csv(os.path.abspath(os.path.join(input_folder_path, \"sora_image_sample_1.csv\")))"
   ]
  },
  {
   "cell_type": "markdown",
   "id": "b5483730",
   "metadata": {},
   "source": [
    "## Neo4j Config"
   ]
  },
  {
   "cell_type": "code",
   "execution_count": 4,
   "id": "22e605c7",
   "metadata": {},
   "outputs": [],
   "source": [
    "# Load config from file\n",
    "def load_neo4j_config(filepath):\n",
    "    config = {}\n",
    "    with open(filepath, 'r') as file:\n",
    "        for line in file:\n",
    "            if '=' in line:\n",
    "                key, value = line.strip().split('=', 1)\n",
    "                config[key] = value\n",
    "    return config"
   ]
  },
  {
   "cell_type": "code",
   "execution_count": 5,
   "id": "503a6a38",
   "metadata": {},
   "outputs": [],
   "source": [
    "config = load_neo4j_config(\"../Encryption/Neo4j-1cf46bb6-Created-2025-04-10.txt\")"
   ]
  },
  {
   "cell_type": "code",
   "execution_count": 6,
   "id": "f4145cd1",
   "metadata": {},
   "outputs": [],
   "source": [
    "uri = config.get(\"NEO4J_URI\")\n",
    "username = config.get(\"NEO4J_USERNAME\")\n",
    "password = config.get(\"NEO4J_PASSWORD\")"
   ]
  },
  {
   "cell_type": "markdown",
   "id": "b300c542",
   "metadata": {},
   "source": [
    "## Driver Initialisation"
   ]
  },
  {
   "cell_type": "code",
   "execution_count": 7,
   "id": "39bba98d",
   "metadata": {},
   "outputs": [],
   "source": [
    "# Create driver\n",
    "driver = GraphDatabase.driver(uri, auth=(username, password))"
   ]
  },
  {
   "cell_type": "markdown",
   "id": "9329577f",
   "metadata": {},
   "source": [
    "## Test Connection"
   ]
  },
  {
   "cell_type": "code",
   "execution_count": 8,
   "id": "d73e5cad",
   "metadata": {},
   "outputs": [],
   "source": [
    "# Example query to test\n",
    "def test_connection():\n",
    "    with driver.session() as session:\n",
    "        result = session.run(\"RETURN 'Connection successful!' AS message\")\n",
    "        print(result.single()[\"message\"])"
   ]
  },
  {
   "cell_type": "code",
   "execution_count": 9,
   "id": "d8d05c40",
   "metadata": {},
   "outputs": [
    {
     "name": "stdout",
     "output_type": "stream",
     "text": [
      "Connection successful!\n"
     ]
    }
   ],
   "source": [
    "test_connection()"
   ]
  },
  {
   "cell_type": "markdown",
   "id": "7ed44263",
   "metadata": {},
   "source": [
    "## Upload Image"
   ]
  },
  {
   "cell_type": "code",
   "execution_count": 10,
   "id": "5053e4bd",
   "metadata": {},
   "outputs": [],
   "source": [
    "def upload_image(tx, filename, desc, url):\n",
    "    tx.run(\"\"\"\n",
    "        MATCH (n) DETACH DELETE n\n",
    "        MERGE (i:Image {filename: $filename})\n",
    "        SET i.description = $desc, i.url = $url\n",
    "    \"\"\", filename=filename, desc=desc, url=url)"
   ]
  },
  {
   "cell_type": "code",
   "execution_count": 11,
   "id": "b99e6f04",
   "metadata": {},
   "outputs": [
    {
     "name": "stdout",
     "output_type": "stream",
     "text": [
      "['filename', 'description', 'url']\n"
     ]
    }
   ],
   "source": [
    "print(df.columns.tolist())"
   ]
  },
  {
   "cell_type": "code",
   "execution_count": 12,
   "id": "6760d0e3",
   "metadata": {},
   "outputs": [],
   "source": [
    "with driver.session() as session:\n",
    "    for _, row in df.iterrows():\n",
    "        session.execute_write(upload_image, row['filename'], row['description'], row['url'])"
   ]
  },
  {
   "cell_type": "code",
   "execution_count": 13,
   "id": "c7673bd9",
   "metadata": {},
   "outputs": [],
   "source": [
    "def view_images(tx):\n",
    "    result = tx.run(\"MATCH (i:Image) RETURN i.filename, i.url\")\n",
    "    return [record.data() for record in result]"
   ]
  },
  {
   "cell_type": "code",
   "execution_count": 14,
   "id": "c751b4f0",
   "metadata": {},
   "outputs": [],
   "source": [
    "with driver.session() as session:\n",
    "    for _, row in df.iterrows():\n",
    "        session.execute_read(view_images)"
   ]
  },
  {
   "cell_type": "code",
   "execution_count": 15,
   "id": "6ae274ad",
   "metadata": {},
   "outputs": [],
   "source": [
    "import requests\n",
    "from PIL import Image\n",
    "from io import BytesIO"
   ]
  },
  {
   "cell_type": "code",
   "execution_count": 16,
   "id": "b7c2663b",
   "metadata": {},
   "outputs": [],
   "source": [
    "# def display_images(image_data):\n",
    "#     for img in image_data:\n",
    "#         print(f\"Title: {img['i.filename']}\")\n",
    "#         print(f\"Viewer URL: {img['i.url']}\")\n",
    "\n",
    "#         try:\n",
    "#             headers = {\n",
    "#                 \"User-Agent\": \"Mozilla/5.0 (Windows NT 10.0; Win64; x64) AppleWebKit/537.36 (KHTML, like Gecko) Chrome/122.0.0.0 Safari/537.36\",\n",
    "#                 \"Referer\": img['i.url'],  # Referrer must match the page where the image is embedded\n",
    "#                 \"Accept\": \"image/avif,image/webp,image/apng,image/svg+xml,image/*,*/*;q=0.8\",\n",
    "#                 \"Accept-Language\": \"en-US,en;q=0.9\",\n",
    "#                 \"DNT\": \"1\",\n",
    "#                 \"Connection\": \"keep-alive\"\n",
    "#             }\n",
    "\n",
    "#             # Step 1: Get the Sora viewer page\n",
    "#             response = requests.get(img['i.url'], headers=headers)\n",
    "#             response.raise_for_status()\n",
    "\n",
    "#             # Step 2: Parse <img> tag from HTML\n",
    "#             soup = BeautifulSoup(response.content, \"html.parser\")\n",
    "#             image_tag = soup.find(\"img\")\n",
    "\n",
    "#             if image_tag:\n",
    "#                 # BeautifulSoup auto-unescapes &amp; -> &\n",
    "#                 image_url = image_tag.get(\"src\")\n",
    "#                 print(f\"✅ Found image URL: {image_url}\")\n",
    "\n",
    "#                 # Step 3: Fetch and display image\n",
    "#                 image_response = requests.get(image_url, headers=headers)\n",
    "#                 image_response.raise_for_status()\n",
    "\n",
    "#                 if \"image\" in image_response.headers.get(\"Content-Type\", \"\"):\n",
    "#                     img_pil = Image.open(BytesIO(image_response.content))\n",
    "#                     img_pil.show()\n",
    "#                 else:\n",
    "#                     print(\"❌ The fetched URL is not an image.\")\n",
    "#             else:\n",
    "#                 print(\"❌ No <img> tag found in HTML.\")\n",
    "#         except Exception as e:\n",
    "#             print(f\"⚠️ Error: {e}\")"
   ]
  },
  {
   "cell_type": "code",
   "execution_count": 17,
   "id": "a7b17c33",
   "metadata": {},
   "outputs": [],
   "source": [
    "def display_image_from_url(image_url):\n",
    "    try:\n",
    "        headers = {\n",
    "            \"User-Agent\": \"Mozilla/5.0\"\n",
    "        }\n",
    "        response = requests.get(image_url, headers=headers)\n",
    "        response.raise_for_status()\n",
    "\n",
    "        if \"image\" in response.headers.get(\"Content-Type\", \"\"):\n",
    "            img = Image.open(BytesIO(response.content))\n",
    "            img.show()\n",
    "        else:\n",
    "            print(\"❌ The content fetched is not an image.\")\n",
    "    except Exception as e:\n",
    "        print(\"⚠️ Error fetching image:\", e)"
   ]
  },
  {
   "cell_type": "code",
   "execution_count": 18,
   "id": "5f477999",
   "metadata": {},
   "outputs": [],
   "source": [
    "with driver.session() as session:\n",
    "    images = session.execute_read(view_images)\n",
    "    for img in images:\n",
    "        url = img['i.url']\n",
    "        display_image_from_url(url)"
   ]
  }
 ],
 "metadata": {
  "kernelspec": {
   "display_name": "venv",
   "language": "python",
   "name": "python3"
  },
  "language_info": {
   "codemirror_mode": {
    "name": "ipython",
    "version": 3
   },
   "file_extension": ".py",
   "mimetype": "text/x-python",
   "name": "python",
   "nbconvert_exporter": "python",
   "pygments_lexer": "ipython3",
   "version": "3.13.1"
  }
 },
 "nbformat": 4,
 "nbformat_minor": 5
}
