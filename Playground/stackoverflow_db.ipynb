{
 "cells": [
  {
   "cell_type": "markdown",
   "id": "5d452910",
   "metadata": {},
   "source": [
    "## Import Libraries"
   ]
  },
  {
   "cell_type": "code",
   "execution_count": 1,
   "id": "f147d902",
   "metadata": {},
   "outputs": [],
   "source": [
    "from neo4j import GraphDatabase\n",
    "from pyvis.network import Network\n",
    "import os\n",
    "import webbrowser"
   ]
  },
  {
   "cell_type": "markdown",
   "id": "b504c039",
   "metadata": {},
   "source": [
    "## Data Loading"
   ]
  },
  {
   "cell_type": "code",
   "execution_count": 2,
   "id": "fbb7d79c",
   "metadata": {},
   "outputs": [],
   "source": [
    "# Load config from file\n",
    "def load_neo4j_config(filepath):\n",
    "    config = {}\n",
    "    with open(filepath, 'r') as file:\n",
    "        for line in file:\n",
    "            if '=' in line:\n",
    "                key, value = line.strip().split('=', 1)\n",
    "                config[key] = value\n",
    "    return config"
   ]
  },
  {
   "cell_type": "code",
   "execution_count": 3,
   "id": "8b4e01bf",
   "metadata": {},
   "outputs": [],
   "source": [
    "# Load credentials from the file\n",
    "config = load_neo4j_config(\"Encryption/Stack Overflow Sandbox Credentials.txt\")"
   ]
  },
  {
   "cell_type": "code",
   "execution_count": 4,
   "id": "e6bffcce",
   "metadata": {},
   "outputs": [],
   "source": [
    "# Assign values\n",
    "uri = config.get(\"NEO4J_URI\")\n",
    "username = config.get(\"NEO4J_USERNAME\")\n",
    "password = config.get(\"NEO4J_PASSWORD\")\n",
    "database = config.get(\"NEO4J_DATABASE\", \"neo4j\")"
   ]
  },
  {
   "cell_type": "markdown",
   "id": "aa9fc98b",
   "metadata": {},
   "source": [
    "## Initialise Data Driver"
   ]
  },
  {
   "cell_type": "code",
   "execution_count": 5,
   "id": "5de4b747",
   "metadata": {},
   "outputs": [],
   "source": [
    "# Create driver\n",
    "driver = GraphDatabase.driver(uri, auth=(username, password))"
   ]
  },
  {
   "cell_type": "code",
   "execution_count": 6,
   "id": "4d954e67",
   "metadata": {},
   "outputs": [],
   "source": [
    "# Example query to test\n",
    "def test_connection():\n",
    "    with driver.session() as session:\n",
    "        result = session.run(\"RETURN 'Connection successful!' AS message\")\n",
    "        print(result.single()[\"message\"])"
   ]
  },
  {
   "cell_type": "code",
   "execution_count": 7,
   "id": "a4a69004",
   "metadata": {},
   "outputs": [
    {
     "name": "stdout",
     "output_type": "stream",
     "text": [
      "Connection successful!\n"
     ]
    }
   ],
   "source": [
    "test_connection()"
   ]
  },
  {
   "cell_type": "markdown",
   "id": "072c7a03",
   "metadata": {},
   "source": [
    "## Example 1"
   ]
  },
  {
   "cell_type": "code",
   "execution_count": 8,
   "id": "8e9c242b",
   "metadata": {},
   "outputs": [],
   "source": [
    "# Function to run your Cypher query with a parameter\n",
    "def get_top_answerers_by_tag(tag_name):\n",
    "    query = \"\"\"\n",
    "    MATCH (t:Tag {name:$tagName})<-[:TAGGED]-(q:Question)<-[:ANSWERED]-(a:Answer {is_accepted:true})<-[:PROVIDED]-(u:User)\n",
    "    RETURN DISTINCT u.display_name as answerer\n",
    "    LIMIT 5\n",
    "    \"\"\"\n",
    "    with driver.session(database=database) as session:\n",
    "        result = session.run(query, tagName=tag_name)\n",
    "        return [record[\"answerer\"] for record in result]"
   ]
  },
  {
   "cell_type": "code",
   "execution_count": 9,
   "id": "518d54c0",
   "metadata": {},
   "outputs": [
    {
     "name": "stdout",
     "output_type": "stream",
     "text": [
      "Top Python Answerers:\n",
      "- T. de Jong\n",
      "- Abhishek Tyagi\n",
      "- cybersam\n",
      "- jose_bacoy\n",
      "- Thomas J\n"
     ]
    }
   ],
   "source": [
    "# Example usage\n",
    "top_answerers = get_top_answerers_by_tag(\"python\")\n",
    "print(\"Top Python Answerers:\")\n",
    "for name in top_answerers:\n",
    "    print(\"-\", name)"
   ]
  },
  {
   "cell_type": "markdown",
   "id": "0ca00b32",
   "metadata": {},
   "source": [
    "## Example 2"
   ]
  },
  {
   "cell_type": "code",
   "execution_count": 10,
   "id": "07e6ef82",
   "metadata": {},
   "outputs": [],
   "source": [
    "def run_graph_query(tag_name):\n",
    "    query = \"\"\"\n",
    "    MATCH (t:Tag {name:$tagName})<-[:TAGGED]-(q:Question)<-[:ANSWERED]-(a:Answer {is_accepted:true})<-[:PROVIDED]-(u:User)\n",
    "    RETURN t, q, a, u\n",
    "    LIMIT 25\n",
    "    \"\"\"\n",
    "    with driver.session(database=database) as session:\n",
    "        result = session.run(query, tagName=tag_name)\n",
    "        return list(result)  # 👈 CONVERT TO LIST HERE"
   ]
  },
  {
   "cell_type": "code",
   "execution_count": 11,
   "id": "cc4dd03a",
   "metadata": {},
   "outputs": [],
   "source": [
    "def visualise_graph(result):\n",
    "    os.makedirs(\"Output\", exist_ok=True)\n",
    "\n",
    "    net = Network(notebook=False, height=\"750px\", width=\"100%\", directed=True)\n",
    "    nodes = set()\n",
    "\n",
    "    for record in result:\n",
    "        t = record.get(\"t\")\n",
    "        q = record.get(\"q\")\n",
    "        a = record.get(\"a\")\n",
    "        u = record.get(\"u\")\n",
    "\n",
    "        # Safely handle nodes\n",
    "        for node, label in zip([t, q, a, u], ['Tag', 'Question', 'Answer', 'User']):\n",
    "            if node and node.id not in nodes:\n",
    "                node_id = node.id or str(uuid.uuid4())\n",
    "                node_label = node.get('name') or node.get('title') or node.get('display_name') or label\n",
    "                net.add_node(node_id, label=node_label, title=label)\n",
    "                nodes.add(node_id)\n",
    "\n",
    "        # Add edges (with safety)\n",
    "        if t and q:\n",
    "            net.add_edge(t.id, q.id, label=\"TAGGED\")\n",
    "        if q and a:\n",
    "            net.add_edge(q.id, a.id, label=\"ANSWERED\")\n",
    "        if a and u:\n",
    "            net.add_edge(a.id, u.id, label=\"PROVIDED\")\n",
    "\n",
    "    # net.show(\"output/neo4j_graph_example_2.html\", notebook=False)\n",
    "    \n",
    "    abs_path = os.path.abspath(\"output/neo4j_graph_example_2.html\")\n",
    "    webbrowser.open('file://' + abs_path)"
   ]
  },
  {
   "cell_type": "code",
   "execution_count": 12,
   "id": "2e1b521f",
   "metadata": {},
   "outputs": [
    {
     "name": "stderr",
     "output_type": "stream",
     "text": [
      "C:\\Users\\HaochengLin\\AppData\\Local\\Temp\\ipykernel_22896\\2459234817.py:15: DeprecationWarning: `id` is deprecated, use `element_id` instead\n",
      "  if node and node.id not in nodes:\n",
      "C:\\Users\\HaochengLin\\AppData\\Local\\Temp\\ipykernel_22896\\2459234817.py:16: DeprecationWarning: `id` is deprecated, use `element_id` instead\n",
      "  node_id = node.id or str(uuid.uuid4())\n",
      "C:\\Users\\HaochengLin\\AppData\\Local\\Temp\\ipykernel_22896\\2459234817.py:23: DeprecationWarning: `id` is deprecated, use `element_id` instead\n",
      "  net.add_edge(t.id, q.id, label=\"TAGGED\")\n",
      "C:\\Users\\HaochengLin\\AppData\\Local\\Temp\\ipykernel_22896\\2459234817.py:25: DeprecationWarning: `id` is deprecated, use `element_id` instead\n",
      "  net.add_edge(q.id, a.id, label=\"ANSWERED\")\n",
      "C:\\Users\\HaochengLin\\AppData\\Local\\Temp\\ipykernel_22896\\2459234817.py:27: DeprecationWarning: `id` is deprecated, use `element_id` instead\n",
      "  net.add_edge(a.id, u.id, label=\"PROVIDED\")\n"
     ]
    }
   ],
   "source": [
    "# Run and visualise\n",
    "result = run_graph_query(\"neo4j\")\n",
    "visualise_graph(result)"
   ]
  }
 ],
 "metadata": {
  "kernelspec": {
   "display_name": "venv",
   "language": "python",
   "name": "python3"
  },
  "language_info": {
   "codemirror_mode": {
    "name": "ipython",
    "version": 3
   },
   "file_extension": ".py",
   "mimetype": "text/x-python",
   "name": "python",
   "nbconvert_exporter": "python",
   "pygments_lexer": "ipython3",
   "version": "3.13.1"
  }
 },
 "nbformat": 4,
 "nbformat_minor": 5
}
