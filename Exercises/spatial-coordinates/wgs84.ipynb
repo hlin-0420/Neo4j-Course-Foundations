{
 "cells": [
  {
   "cell_type": "code",
   "execution_count": 1,
   "id": "4aea7cd2",
   "metadata": {},
   "outputs": [],
   "source": [
    "from neo4j.spatial import WGS84Point\n",
    "import folium"
   ]
  },
  {
   "cell_type": "code",
   "execution_count": 2,
   "id": "4d722756",
   "metadata": {},
   "outputs": [
    {
     "name": "stdout",
     "output_type": "stream",
     "text": [
      "-0.118092 51.509865 4326\n"
     ]
    }
   ],
   "source": [
    "ldn = WGS84Point((-0.118092, 51.509865))\n",
    "print(ldn.longitude, ldn.latitude, ldn.srid) # -0.118092, 51.509865, 4326"
   ]
  },
  {
   "cell_type": "code",
   "execution_count": 3,
   "id": "0e903ab3",
   "metadata": {},
   "outputs": [
    {
     "name": "stdout",
     "output_type": "stream",
     "text": [
      "-0.0865 51.504501 310.0 4979\n"
     ]
    }
   ],
   "source": [
    "shard = WGS84Point((-0.086500, 51.504501, 310))\n",
    "print(shard.longitude, shard.latitude, shard.height, shard.srid) # -0.0865, 51.504501, 310, 4979"
   ]
  },
  {
   "cell_type": "code",
   "execution_count": 4,
   "id": "d9d387d2",
   "metadata": {},
   "outputs": [],
   "source": [
    "# Using destructuring\n",
    "longitude, latitude, height = shard"
   ]
  },
  {
   "cell_type": "code",
   "execution_count": 5,
   "id": "c20bf0fd",
   "metadata": {},
   "outputs": [
    {
     "name": "stdout",
     "output_type": "stream",
     "text": [
      "Longitude: -0.0865, Latitude: 51.504501, Height: 310.0\n"
     ]
    }
   ],
   "source": [
    "print(f\"Longitude: {longitude}, Latitude: {latitude}, Height: {height}\")"
   ]
  },
  {
   "cell_type": "code",
   "execution_count": 6,
   "id": "9e2385c7",
   "metadata": {},
   "outputs": [],
   "source": [
    "shard_lon, shard_lat, shard_height = shard.longitude, shard.latitude, shard.height"
   ]
  },
  {
   "cell_type": "code",
   "execution_count": 7,
   "id": "92ce754c",
   "metadata": {},
   "outputs": [],
   "source": [
    "ldn_lon, ldn_lat = ldn.longitude, ldn.latitude"
   ]
  },
  {
   "cell_type": "code",
   "execution_count": 8,
   "id": "ec61e09c",
   "metadata": {},
   "outputs": [],
   "source": [
    "# Create a map centered between the two points\n",
    "map_center_lat = (ldn_lat + shard_lat) / 2\n",
    "map_center_lon = (ldn_lon + shard_lon) / 2\n",
    "m = folium.Map(location=[map_center_lat, map_center_lon], zoom_start=15)"
   ]
  },
  {
   "cell_type": "code",
   "execution_count": 9,
   "id": "c9eaaef7",
   "metadata": {},
   "outputs": [
    {
     "data": {
      "text/plain": [
       "<folium.map.Marker at 0x2607fa3b010>"
      ]
     },
     "execution_count": 9,
     "metadata": {},
     "output_type": "execute_result"
    }
   ],
   "source": [
    "# Add markers with values from variables\n",
    "folium.Marker([ldn_lat, ldn_lon], popup=f\"London\").add_to(m)\n",
    "folium.Marker([shard_lat, shard_lon], popup=f\"The Shard, {shard_height}m\").add_to(m)"
   ]
  },
  {
   "cell_type": "code",
   "execution_count": 10,
   "id": "eb5a88b1",
   "metadata": {},
   "outputs": [],
   "source": [
    "# Save and display\n",
    "m.save(\"../../Playground/output/maps/map.html\")"
   ]
  },
  {
   "cell_type": "code",
   "execution_count": 11,
   "id": "5f4e6369",
   "metadata": {},
   "outputs": [
    {
     "data": {
      "text/plain": [
       "True"
      ]
     },
     "execution_count": 11,
     "metadata": {},
     "output_type": "execute_result"
    }
   ],
   "source": [
    "import webbrowser\n",
    "import os\n",
    "map_path = \"../../Playground/output/maps/map.html\"\n",
    "webbrowser.open(\"file://\" + os.path.abspath(map_path))"
   ]
  },
  {
   "cell_type": "code",
   "execution_count": null,
   "id": "95682353",
   "metadata": {},
   "outputs": [],
   "source": []
  }
 ],
 "metadata": {
  "kernelspec": {
   "display_name": "venv",
   "language": "python",
   "name": "python3"
  },
  "language_info": {
   "codemirror_mode": {
    "name": "ipython",
    "version": 3
   },
   "file_extension": ".py",
   "mimetype": "text/x-python",
   "name": "python",
   "nbconvert_exporter": "python",
   "pygments_lexer": "ipython3",
   "version": "3.11.0"
  }
 },
 "nbformat": 4,
 "nbformat_minor": 5
}
