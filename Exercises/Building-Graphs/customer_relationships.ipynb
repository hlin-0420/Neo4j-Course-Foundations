{
 "cells": [
  {
   "cell_type": "markdown",
   "id": "c37f6815",
   "metadata": {},
   "source": [
    "## Import Libraries"
   ]
  },
  {
   "cell_type": "code",
   "execution_count": 1,
   "id": "17c29e4e",
   "metadata": {},
   "outputs": [],
   "source": [
    "from neo4j import GraphDatabase, basic_auth\n",
    "from pyvis.network import Network\n",
    "import os\n",
    "import webbrowser\n",
    "import time"
   ]
  },
  {
   "cell_type": "markdown",
   "id": "6c619a22",
   "metadata": {},
   "source": [
    "## Data Loading"
   ]
  },
  {
   "cell_type": "code",
   "execution_count": 2,
   "id": "0ddcd580",
   "metadata": {},
   "outputs": [],
   "source": [
    "# Load config from file\n",
    "def load_neo4j_config(filepath):\n",
    "    config = {}\n",
    "    with open(filepath, 'r') as file:\n",
    "        for line in file:\n",
    "            if '=' in line:\n",
    "                key, value = line.strip().split('=', 1)\n",
    "                config[key] = value\n",
    "    return config"
   ]
  },
  {
   "cell_type": "code",
   "execution_count": 3,
   "id": "74b8a403",
   "metadata": {},
   "outputs": [],
   "source": [
    "# Load credentials from the file\n",
    "config = load_neo4j_config(\"../../Encryption/Blank-Sandbox.txt\")"
   ]
  },
  {
   "cell_type": "code",
   "execution_count": 4,
   "id": "e386f189",
   "metadata": {},
   "outputs": [],
   "source": [
    "# Assign values\n",
    "uri = config.get(\"NEO4J_URI\")\n",
    "username = config.get(\"NEO4J_USERNAME\")\n",
    "password = config.get(\"NEO4J_PASSWORD\")\n",
    "database = config.get(\"NEO4J_DATABASE\", \"neo4j\")"
   ]
  },
  {
   "cell_type": "markdown",
   "id": "d5d050ee",
   "metadata": {},
   "source": [
    "## Customer Relationship Database Class"
   ]
  },
  {
   "cell_type": "code",
   "execution_count": 5,
   "id": "8175ead2",
   "metadata": {},
   "outputs": [],
   "source": [
    "class customerRelationsDatabase:\n",
    "\n",
    "    def __init__(self, uri, user, password):\n",
    "        self.driver = GraphDatabase.driver(\n",
    "            uri,\n",
    "            auth=basic_auth(user, password),\n",
    "        )\n",
    "\n",
    "    def initialise_graph(self):\n",
    "        with self.driver.session() as session:\n",
    "            # Clear existing nodes and relationships\n",
    "            session.run(\"MATCH (n) DETACH DELETE n\")\n",
    "\n",
    "            # Create Customer nodes\n",
    "            session.run(\"\"\"\n",
    "                CREATE \n",
    "                    (:Customer {name: 'Sophie'}),\n",
    "                    (:Customer {name: 'Jeremy'}),\n",
    "                    (:Customer {name: 'Clem'}),\n",
    "                    (:Customer {name: 'Antonio'}),\n",
    "                    (:Customer {name: 'Rosa'}),\n",
    "                    (:Customer {name: 'Karl'}),\n",
    "                    (:Customer {name: 'Nye'})\n",
    "            \"\"\")\n",
    "\n",
    "            # Create Product nodes\n",
    "            session.run(\"\"\"\n",
    "                CREATE \n",
    "                    (:Product {model: 'E215', mfr: 'Shure', category: 'Audio|Wired|Earphones|Products'}),\n",
    "                    (:Product {model: 'QC3511', mfr: 'Bose', category: 'Audio|Wired and Wireless|Earphones|Products'}),\n",
    "                    (:Product {model: 'Earpods', mfr: 'Apple', category: 'Audio|Wireless|Earphones|Products'})\n",
    "            \"\"\")\n",
    "\n",
    "            # Create BOUGHT relationships\n",
    "            session.run(\"\"\"\n",
    "                MATCH (c:Customer {name: 'Sophie'}), (p:Product {model: 'E215'})\n",
    "                CREATE (c)-[:BOUGHT]->(p)\n",
    "            \"\"\")\n",
    "            session.run(\"\"\"\n",
    "                MATCH (c:Customer {name: 'Jeremy'}), (p:Product {model: 'E215'})\n",
    "                CREATE (c)-[:BOUGHT]->(p)\n",
    "            \"\"\")\n",
    "            session.run(\"\"\"\n",
    "                MATCH (c:Customer {name: 'Clem'}), (p:Product {model: 'QC3511'})\n",
    "                CREATE (c)-[:BOUGHT]->(p)\n",
    "            \"\"\")\n",
    "            session.run(\"\"\"\n",
    "                MATCH (c:Customer {name: 'Antonio'}), (p:Product {model: 'E215'})\n",
    "                CREATE (c)-[:BOUGHT]->(p)\n",
    "            \"\"\")\n",
    "            session.run(\"\"\"\n",
    "                MATCH (c:Customer {name: 'Rosa'}), (p:Product {model: 'E215'})\n",
    "                CREATE (c)-[:BOUGHT]->(p)\n",
    "            \"\"\")\n",
    "            session.run(\"\"\"\n",
    "                MATCH (c:Customer {name: 'Karl'}), (p:Product {model: 'E215'})\n",
    "                CREATE (c)-[:BOUGHT]->(p)\n",
    "            \"\"\")\n",
    "            session.run(\"\"\"\n",
    "                MATCH (c:Customer {name: 'Karl'}), (p:Product {model: 'Earpods'})\n",
    "                CREATE (c)-[:BOUGHT]->(p)\n",
    "            \"\"\")\n",
    "            session.run(\"\"\"\n",
    "                MATCH (c:Customer {name: 'Nye'}), (p:Product {model: 'Earpods'})\n",
    "                CREATE (c)-[:BOUGHT]->(p)\n",
    "            \"\"\")\n",
    "\n",
    "    def visualise_graph(self):\n",
    "        with self.driver.session() as session:\n",
    "            query = \"\"\"\n",
    "                MATCH (c:Customer)-[:BOUGHT]->(p:Product)\n",
    "                RETURN c.name AS customer, p.model AS model, p.mfr AS mfr, p.category AS category\n",
    "            \"\"\"\n",
    "            results = session.run(query)\n",
    "\n",
    "            net = Network(height='750px', width='100%', bgcolor='#ffffff', font_color='black', directed=True)\n",
    "            net.force_atlas_2based()\n",
    "\n",
    "            added_nodes = set()\n",
    "            added_edges = set()  # Track (source, target)\n",
    "\n",
    "            for record in results:\n",
    "                cust = record[\"customer\"]\n",
    "                model = record[\"model\"]\n",
    "                mfr = record[\"mfr\"]\n",
    "                category = record[\"category\"]\n",
    "                product_label = f\"{mfr} {model}\"\n",
    "\n",
    "                # Add nodes\n",
    "                if cust not in added_nodes:\n",
    "                    net.add_node(cust, label=cust, shape='ellipse', color='lightblue')\n",
    "                    added_nodes.add(cust)\n",
    "\n",
    "                if product_label not in added_nodes:\n",
    "                    net.add_node(product_label, label=f\"{product_label}\\n{category}\", shape='box', color='orange')\n",
    "                    added_nodes.add(product_label)\n",
    "\n",
    "                # Add edge only once\n",
    "                edge_key = (cust, product_label)\n",
    "                if edge_key not in added_edges:\n",
    "                    net.add_edge(cust, product_label, label='BOUGHT')\n",
    "                    added_edges.add(edge_key)\n",
    "\n",
    "        # Save and open\n",
    "        path = os.path.abspath(\"../../Playground/output/customer_product_graph.html\")\n",
    "        net.write_html(path)\n",
    "        webbrowser.open(\"file://\" + os.path.abspath(path))\n",
    "\n",
    "    def close(self):\n",
    "        self.driver.close()"
   ]
  },
  {
   "cell_type": "code",
   "execution_count": 6,
   "id": "b9516e68",
   "metadata": {},
   "outputs": [],
   "source": [
    "db = customerRelationsDatabase(uri, username, password)\n",
    "db.initialise_graph()\n",
    "time.sleep(1)\n",
    "db.visualise_graph()\n",
    "db.close()"
   ]
  },
  {
   "cell_type": "markdown",
   "id": "c7ec519a",
   "metadata": {},
   "source": [
    "## Hierarchical Relationships"
   ]
  },
  {
   "cell_type": "code",
   "execution_count": 7,
   "id": "924559e7",
   "metadata": {},
   "outputs": [],
   "source": [
    "class Category:\n",
    "    def __init__(self, name):\n",
    "        self.name = name\n",
    "        self.subclasses = []\n",
    "\n",
    "    def add_subclass(self, subclass):\n",
    "        self.subclasses.append(subclass)\n",
    "\n",
    "    def __repr__(self):\n",
    "        return f\"Category(name='{self.name}')\""
   ]
  },
  {
   "cell_type": "code",
   "execution_count": 8,
   "id": "13c7e23f",
   "metadata": {},
   "outputs": [],
   "source": [
    "class Product:\n",
    "    def __init__(self, model, category):\n",
    "        self.model = model\n",
    "        self.category = category\n",
    "        self.upsell = None\n",
    "\n",
    "    def set_upsell(self, product):\n",
    "        self.upsell = product\n",
    "\n",
    "    def __repr__(self):\n",
    "        upsell_model = self.upsell.model if self.upsell else \"None\"\n",
    "        return (f\"Product(model='{self.model}', category='{self.category.name}', \"\n",
    "                f\"upsell='{upsell_model}')\")"
   ]
  },
  {
   "cell_type": "code",
   "execution_count": 9,
   "id": "4b591147",
   "metadata": {},
   "outputs": [],
   "source": [
    "# Create categories\n",
    "mobile_phone = Category(\"mobile phone\")\n",
    "ios = Category(\"iOS\")\n",
    "mobile_phone.add_subclass(ios)  # iOS is a subclass of mobile phone"
   ]
  },
  {
   "cell_type": "code",
   "execution_count": 10,
   "id": "5ab8743e",
   "metadata": {},
   "outputs": [],
   "source": [
    "# Create products and assign to category iOS\n",
    "iphone_12_mini = Product(\"iPhone 12 mini\", ios)\n",
    "iphone_12 = Product(\"iPhone 12\", ios)\n",
    "iphone_12_pro = Product(\"iPhone 12 Pro\", ios)"
   ]
  },
  {
   "cell_type": "code",
   "execution_count": 11,
   "id": "c97f545b",
   "metadata": {},
   "outputs": [],
   "source": [
    "# Set upsell relationships\n",
    "iphone_12_mini.set_upsell(iphone_12)\n",
    "iphone_12.set_upsell(iphone_12_pro)"
   ]
  },
  {
   "cell_type": "code",
   "execution_count": 12,
   "id": "eb1ce806",
   "metadata": {},
   "outputs": [
    {
     "name": "stdout",
     "output_type": "stream",
     "text": [
      "Categories:\n",
      "mobile phone has subclasses: ['iOS']\n"
     ]
    }
   ],
   "source": [
    "# Display structure\n",
    "print(\"Categories:\")\n",
    "print(f\"{mobile_phone.name} has subclasses: {[sub.name for sub in mobile_phone.subclasses]}\")"
   ]
  },
  {
   "cell_type": "code",
   "execution_count": 13,
   "id": "4a7033f3",
   "metadata": {},
   "outputs": [
    {
     "name": "stdout",
     "output_type": "stream",
     "text": [
      "\n",
      "Products:\n",
      "Product(model='iPhone 12 mini', category='iOS', upsell='iPhone 12')\n",
      "Product(model='iPhone 12', category='iOS', upsell='iPhone 12 Pro')\n",
      "Product(model='iPhone 12 Pro', category='iOS', upsell='None')\n"
     ]
    }
   ],
   "source": [
    "print(\"\\nProducts:\")\n",
    "print(iphone_12_mini)\n",
    "print(iphone_12)\n",
    "print(iphone_12_pro)"
   ]
  }
 ],
 "metadata": {
  "kernelspec": {
   "display_name": "venv",
   "language": "python",
   "name": "python3"
  },
  "language_info": {
   "codemirror_mode": {
    "name": "ipython",
    "version": 3
   },
   "file_extension": ".py",
   "mimetype": "text/x-python",
   "name": "python",
   "nbconvert_exporter": "python",
   "pygments_lexer": "ipython3",
   "version": "3.11.0"
  }
 },
 "nbformat": 4,
 "nbformat_minor": 5
}
