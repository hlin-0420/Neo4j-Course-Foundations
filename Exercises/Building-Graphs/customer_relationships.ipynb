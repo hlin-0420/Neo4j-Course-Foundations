{
 "cells": [
  {
   "cell_type": "markdown",
   "id": "c37f6815",
   "metadata": {},
   "source": [
    "## Import Libraries"
   ]
  },
  {
   "cell_type": "code",
   "execution_count": 1,
   "id": "17c29e4e",
   "metadata": {},
   "outputs": [],
   "source": [
    "from neo4j import GraphDatabase\n",
    "from pyvis.network import Network\n",
    "import os\n",
    "import webbrowser"
   ]
  },
  {
   "cell_type": "markdown",
   "id": "6c619a22",
   "metadata": {},
   "source": [
    "## Data Loading"
   ]
  },
  {
   "cell_type": "code",
   "execution_count": 2,
   "id": "0ddcd580",
   "metadata": {},
   "outputs": [],
   "source": [
    "# Load config from file\n",
    "def load_neo4j_config(filepath):\n",
    "    config = {}\n",
    "    with open(filepath, 'r') as file:\n",
    "        for line in file:\n",
    "            if '=' in line:\n",
    "                key, value = line.strip().split('=', 1)\n",
    "                config[key] = value\n",
    "    return config"
   ]
  },
  {
   "cell_type": "code",
   "execution_count": 3,
   "id": "74b8a403",
   "metadata": {},
   "outputs": [],
   "source": [
    "# Load credentials from the file\n",
    "config = load_neo4j_config(\"../../Encryption/Blank-Sandbox.txt\")"
   ]
  },
  {
   "cell_type": "code",
   "execution_count": 4,
   "id": "e386f189",
   "metadata": {},
   "outputs": [],
   "source": [
    "# Assign values\n",
    "uri = config.get(\"NEO4J_URI\")\n",
    "username = config.get(\"NEO4J_USERNAME\")\n",
    "password = config.get(\"NEO4J_PASSWORD\")\n",
    "database = config.get(\"NEO4J_DATABASE\", \"neo4j\")"
   ]
  },
  {
   "cell_type": "markdown",
   "id": "d5d050ee",
   "metadata": {},
   "source": [
    "## Customer Relationship Database Class"
   ]
  },
  {
   "cell_type": "code",
   "execution_count": 5,
   "id": "8175ead2",
   "metadata": {},
   "outputs": [],
   "source": [
    "class customerRelationsDatabase:\n",
    "\n",
    "    def __init__(self, uri, user, password):\n",
    "        self.driver = GraphDatabase.driver(uri, auth=(user, password))\n",
    "\n",
    "    def initialise_graph(self):\n",
    "        with self.driver.session() as session:\n",
    "            session.run(\n",
    "                \"\"\"\n",
    "                    MATCH (n)\n",
    "                    DETACH DELETE n\n",
    "\n",
    "                    CREATE \n",
    "                        (sophie:Customer {name: 'Sophie'}),\n",
    "                        (jeremy:Customer {name: 'Jeremy'}),\n",
    "                        (clem:Customer {name: 'Clem'}),\n",
    "                        (antonio:Customer {name: 'Antonio'}),\n",
    "                        (rosa:Customer {name: 'Rosa'}),\n",
    "                        (karl:Customer {name: 'Karl'}),\n",
    "                        (nye:Customer {name: 'Nye'})\n",
    "\n",
    "                    CREATE \n",
    "                        (shureE215:Product {category: 'Audio|Wired|Earphones|Products', mfr: 'Shure', model: 'E215'}),\n",
    "                        (boseQC3511:Product {category: 'Audio|Wired and Wireless|Earphones|Products', mfr: 'Bose', model: 'QC3511'}),\n",
    "                        (appleEarpods:Product {category: 'Audio|Wireless|Earphones|Products', mfr: 'Apple', model: 'Earpods'})\n",
    "                    \n",
    "                    CREATE \n",
    "                        (sophie)-[:BOUGHT]->(shureE215),\n",
    "                        (jeremy)-[:BOUGHT]->(shureE215),\n",
    "                        (clem)-[:BOUGHT]->(boseQC3511),\n",
    "                        (antonio)-[:BOUGHT]->(shureE215),\n",
    "                        (rosa)-[:BOUGHT]->(shureE215),\n",
    "                        (karl)-[:BOUGHT]->(shureE215),\n",
    "                        (karl)-[:BOUGHT]->(appleEarpods),\n",
    "                        (nye)-[:BOUGHT]->(appleEarpods)\n",
    "                \"\"\"\n",
    "            )\n",
    "\n",
    "    def visualise_graph(self):\n",
    "        with self.driver.session() as session:\n",
    "            query = \"\"\"\n",
    "                MATCH (c:Customer)-[:BOUGHT]->(p:Product)\n",
    "                RETURN c.name AS customer, p.model AS model, p.mfr AS mfr, p.category AS category\n",
    "            \"\"\"\n",
    "            results = session.run(query)\n",
    "\n",
    "            net = Network(height='750px', width='100%', bgcolor='#ffffff', font_color='black', directed=True)\n",
    "            net.force_atlas_2based()\n",
    "\n",
    "            added_nodes = set()\n",
    "            added_edges = set()  # Track (source, target)\n",
    "\n",
    "            for record in results:\n",
    "                cust = record[\"customer\"]\n",
    "                model = record[\"model\"]\n",
    "                mfr = record[\"mfr\"]\n",
    "                category = record[\"category\"]\n",
    "                product_label = f\"{mfr} {model}\"\n",
    "\n",
    "                # Add nodes\n",
    "                if cust not in added_nodes:\n",
    "                    net.add_node(cust, label=cust, shape='ellipse', color='lightblue')\n",
    "                    added_nodes.add(cust)\n",
    "\n",
    "                if product_label not in added_nodes:\n",
    "                    net.add_node(product_label, label=f\"{product_label}\\n{category}\", shape='box', color='orange')\n",
    "                    added_nodes.add(product_label)\n",
    "\n",
    "                # Add edge only once\n",
    "                edge_key = (cust, product_label)\n",
    "                if edge_key not in added_edges:\n",
    "                    net.add_edge(cust, product_label, label='BOUGHT')\n",
    "                    added_edges.add(edge_key)\n",
    "\n",
    "        # Save and open\n",
    "        path = os.path.abspath(\"../../Playground/output/customer_product_graph.html\")\n",
    "        net.write_html(path)\n",
    "        webbrowser.open(\"file://\" + os.path.abspath(path))\n",
    "\n",
    "    def close(self):\n",
    "        self.driver.close()"
   ]
  },
  {
   "cell_type": "code",
   "execution_count": 6,
   "id": "b9516e68",
   "metadata": {},
   "outputs": [],
   "source": [
    "db = customerRelationsDatabase(uri, username, password)\n",
    "db.initialise_graph()\n",
    "db.visualise_graph()\n",
    "db.close()"
   ]
  },
  {
   "cell_type": "code",
   "execution_count": null,
   "id": "924559e7",
   "metadata": {},
   "outputs": [],
   "source": []
  }
 ],
 "metadata": {
  "kernelspec": {
   "display_name": "venv",
   "language": "python",
   "name": "python3"
  },
  "language_info": {
   "codemirror_mode": {
    "name": "ipython",
    "version": 3
   },
   "file_extension": ".py",
   "mimetype": "text/x-python",
   "name": "python",
   "nbconvert_exporter": "python",
   "pygments_lexer": "ipython3",
   "version": "3.11.0"
  }
 },
 "nbformat": 4,
 "nbformat_minor": 5
}
