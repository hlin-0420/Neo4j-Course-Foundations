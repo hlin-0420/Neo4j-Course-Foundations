{
 "cells": [
  {
   "cell_type": "code",
   "execution_count": 1,
   "id": "dd32a0a0",
   "metadata": {},
   "outputs": [],
   "source": [
    "from pyvis.network import Network\n",
    "import webbrowser\n",
    "import os"
   ]
  },
  {
   "cell_type": "code",
   "execution_count": 2,
   "id": "a0760dba",
   "metadata": {},
   "outputs": [],
   "source": [
    "# Create network\n",
    "net = Network(height=\"800px\", width=\"100%\", directed=True)\n",
    "net.force_atlas_2based(gravity=-200, central_gravity=0.005, spring_length=200)"
   ]
  },
  {
   "cell_type": "code",
   "execution_count": 3,
   "id": "361c0704",
   "metadata": {},
   "outputs": [],
   "source": [
    "# Central actor node\n",
    "net.add_node(\"Tom Hanks\", label=\"Tom Hanks\", color='red', shape='star', size=30)"
   ]
  },
  {
   "cell_type": "code",
   "execution_count": 4,
   "id": "9db67d2d",
   "metadata": {},
   "outputs": [],
   "source": [
    "# Example data (simplified)\n",
    "movies = {\n",
    "    \"Forrest Gump\": [\"English\"],\n",
    "    \"Saving Private Ryan\": [\"English\", \"French\", \"German\"],\n",
    "    \"Cast Away\": [\"English\", \"Spanish\"],\n",
    "}"
   ]
  },
  {
   "cell_type": "code",
   "execution_count": 5,
   "id": "8e34c409",
   "metadata": {},
   "outputs": [],
   "source": [
    "# Add movie and language nodes\n",
    "for movie, languages in movies.items():\n",
    "    net.add_node(movie, label=movie, color='orange', shape='box')\n",
    "    net.add_edge(\"Tom Hanks\", movie, label=\"acted in\")\n",
    "\n",
    "    for lang in languages:\n",
    "        net.add_node(lang, label=lang, color='lightgreen', shape='ellipse')\n",
    "        net.add_edge(movie, lang, label=\"language\")"
   ]
  },
  {
   "cell_type": "code",
   "execution_count": 6,
   "id": "ce93e664",
   "metadata": {},
   "outputs": [],
   "source": [
    "# Show graph\n",
    "net.show_buttons(filter_=['physics'])  # Optional: lets you adjust forces interactively\n",
    "\n",
    "path = \"../../Playground/output/clean_actor_movie_language_graph.html\"\n",
    "net.write_html(path)"
   ]
  },
  {
   "cell_type": "code",
   "execution_count": 7,
   "id": "d9e12aad",
   "metadata": {},
   "outputs": [
    {
     "data": {
      "text/plain": [
       "True"
      ]
     },
     "execution_count": 7,
     "metadata": {},
     "output_type": "execute_result"
    }
   ],
   "source": [
    "path = os.path.abspath(\"../../Playground/output/clean_actor_movie_language_graph.html\")\n",
    "webbrowser.open('file://' + path)"
   ]
  },
  {
   "cell_type": "code",
   "execution_count": null,
   "id": "60a4955c",
   "metadata": {},
   "outputs": [],
   "source": []
  }
 ],
 "metadata": {
  "kernelspec": {
   "display_name": "venv",
   "language": "python",
   "name": "python3"
  },
  "language_info": {
   "codemirror_mode": {
    "name": "ipython",
    "version": 3
   },
   "file_extension": ".py",
   "mimetype": "text/x-python",
   "name": "python",
   "nbconvert_exporter": "python",
   "pygments_lexer": "ipython3",
   "version": "3.11.0"
  }
 },
 "nbformat": 4,
 "nbformat_minor": 5
}
