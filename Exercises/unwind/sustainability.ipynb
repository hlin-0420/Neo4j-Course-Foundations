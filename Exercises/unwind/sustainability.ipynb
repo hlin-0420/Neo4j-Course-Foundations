{
 "cells": [
  {
   "cell_type": "markdown",
   "id": "b0d1179b",
   "metadata": {},
   "source": [
    "## Import Libraries"
   ]
  },
  {
   "cell_type": "code",
   "execution_count": 1,
   "id": "a62eb6de",
   "metadata": {},
   "outputs": [],
   "source": [
    "from neo4j import GraphDatabase, basic_auth"
   ]
  },
  {
   "cell_type": "markdown",
   "id": "00e35ef4",
   "metadata": {},
   "source": [
    "## Setting Up Connections"
   ]
  },
  {
   "cell_type": "code",
   "execution_count": 2,
   "id": "4e4f14a0",
   "metadata": {},
   "outputs": [],
   "source": [
    "# Load config from file\n",
    "def load_neo4j_config(filepath):\n",
    "    config = {}\n",
    "    with open(filepath, 'r') as file:\n",
    "        for line in file:\n",
    "            if '=' in line:\n",
    "                key, value = line.strip().split('=', 1)\n",
    "                config[key] = value\n",
    "    return config"
   ]
  },
  {
   "cell_type": "code",
   "execution_count": 3,
   "id": "ce447e18",
   "metadata": {},
   "outputs": [],
   "source": [
    "# Load credentials from the file\n",
    "config = load_neo4j_config(\"../../Encryption/Blank-Sandbox.txt\")"
   ]
  },
  {
   "cell_type": "code",
   "execution_count": 4,
   "id": "7978f21a",
   "metadata": {},
   "outputs": [],
   "source": [
    "# Assign values\n",
    "uri = config.get(\"NEO4J_URI\")\n",
    "username = config.get(\"NEO4J_USERNAME\")\n",
    "password = config.get(\"NEO4J_PASSWORD\")\n",
    "database = config.get(\"NEO4J_DATABASE\", \"neo4j\")"
   ]
  },
  {
   "cell_type": "markdown",
   "id": "ac598845",
   "metadata": {},
   "source": [
    "## Building Nodes"
   ]
  },
  {
   "cell_type": "markdown",
   "id": "39eec4a2",
   "metadata": {},
   "source": [
    "### Driver Initialisation"
   ]
  },
  {
   "cell_type": "code",
   "execution_count": 5,
   "id": "21a85917",
   "metadata": {},
   "outputs": [],
   "source": [
    "driver = GraphDatabase.driver(\n",
    "    uri,\n",
    "    auth=basic_auth(username, password),\n",
    ")"
   ]
  },
  {
   "cell_type": "markdown",
   "id": "bee0641d",
   "metadata": {},
   "source": [
    "### Create Nodes"
   ]
  },
  {
   "cell_type": "code",
   "execution_count": 6,
   "id": "bc9804d3",
   "metadata": {},
   "outputs": [],
   "source": [
    "with driver.session() as session:\n",
    "    session.run(\n",
    "        \"\"\"\n",
    "        MATCH (n) DETACH DELETE n\n",
    "        CREATE (:Topic {name: \"AI\"})\n",
    "        CREATE (:Topic {name: \"Climate\"})\n",
    "        CREATE (:Topic {name: \"Sustainability\"})\n",
    "        \"\"\"    \n",
    "    )"
   ]
  },
  {
   "cell_type": "code",
   "execution_count": 7,
   "id": "b5fe501c",
   "metadata": {},
   "outputs": [
    {
     "name": "stdout",
     "output_type": "stream",
     "text": [
      "['AI', 'Sustainability', 'Climate']\n"
     ]
    }
   ],
   "source": [
    "with driver.session() as session:\n",
    "    result = session.run(\n",
    "        \"\"\"\n",
    "        MATCH (t:Topic)\n",
    "        RETURN t.name AS name\n",
    "        \"\"\"\n",
    "    )\n",
    "    topics = list(set([record[\"name\"] for record in result]))\n",
    "\n",
    "print(topics)  # Optional: to see the result"
   ]
  },
  {
   "cell_type": "code",
   "execution_count": 8,
   "id": "40b6b7ba",
   "metadata": {},
   "outputs": [
    {
     "name": "stdout",
     "output_type": "stream",
     "text": [
      "Name: AI, Description: Artificial Intelligence and Machine Learning\n",
      "Name: Climate, Description: Climate Change and Environmental Impact\n",
      "Name: Sustainability, Description: Sustainable Development Goals and Practices\n"
     ]
    }
   ],
   "source": [
    "with driver.session() as session:\n",
    "    result = session.run(\n",
    "        \"\"\"\n",
    "        WITH [\n",
    "            {name: 'AI', description: 'Artificial Intelligence and Machine Learning'},\n",
    "            {name: 'Climate', description: 'Climate Change and Environmental Impact'},\n",
    "            {name: 'Sustainability', description: 'Sustainable Development Goals and Practices'}\n",
    "        ] AS topicData\n",
    "        UNWIND topicData AS t\n",
    "        MATCH (topic:Topic {name: t.name})\n",
    "        WITH topic, t\n",
    "        SET topic.description = t.description\n",
    "        RETURN DISTINCT topic.name AS Name, topic.description AS Description\n",
    "        \"\"\"\n",
    "    )\n",
    "\n",
    "    for record in result:\n",
    "        name = record[\"Name\"]\n",
    "        description = record[\"Description\"]\n",
    "        print(f\"Name: {name}, Description: {description}\")"
   ]
  }
 ],
 "metadata": {
  "kernelspec": {
   "display_name": "venv",
   "language": "python",
   "name": "python3"
  },
  "language_info": {
   "codemirror_mode": {
    "name": "ipython",
    "version": 3
   },
   "file_extension": ".py",
   "mimetype": "text/x-python",
   "name": "python",
   "nbconvert_exporter": "python",
   "pygments_lexer": "ipython3",
   "version": "3.11.0"
  }
 },
 "nbformat": 4,
 "nbformat_minor": 5
}
