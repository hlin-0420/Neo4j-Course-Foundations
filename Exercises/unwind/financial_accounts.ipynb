{
 "cells": [
  {
   "cell_type": "markdown",
   "id": "e67ebfd8",
   "metadata": {},
   "source": [
    "## Import Libraries"
   ]
  },
  {
   "cell_type": "code",
   "execution_count": 1,
   "id": "42b2b89f",
   "metadata": {},
   "outputs": [],
   "source": [
    "from neo4j import GraphDatabase, basic_auth"
   ]
  },
  {
   "cell_type": "markdown",
   "id": "03ecfef5",
   "metadata": {},
   "source": [
    "## Setting Up Connections"
   ]
  },
  {
   "cell_type": "code",
   "execution_count": 2,
   "id": "4d1ff74c",
   "metadata": {},
   "outputs": [],
   "source": [
    "# Load config from file\n",
    "def load_neo4j_config(filepath):\n",
    "    config = {}\n",
    "    with open(filepath, 'r') as file:\n",
    "        for line in file:\n",
    "            if '=' in line:\n",
    "                key, value = line.strip().split('=', 1)\n",
    "                config[key] = value\n",
    "    return config"
   ]
  },
  {
   "cell_type": "code",
   "execution_count": 3,
   "id": "a76140ae",
   "metadata": {},
   "outputs": [],
   "source": [
    "# Load credentials from the file\n",
    "config = load_neo4j_config(\"../../Encryption/Blank-Sandbox.txt\")"
   ]
  },
  {
   "cell_type": "code",
   "execution_count": 4,
   "id": "34b139f6",
   "metadata": {},
   "outputs": [],
   "source": [
    "# Assign values\n",
    "uri = config.get(\"NEO4J_URI\")\n",
    "username = config.get(\"NEO4J_USERNAME\")\n",
    "password = config.get(\"NEO4J_PASSWORD\")\n",
    "database = config.get(\"NEO4J_DATABASE\", \"neo4j\")"
   ]
  },
  {
   "cell_type": "markdown",
   "id": "873ea478",
   "metadata": {},
   "source": [
    "## Building Nodes"
   ]
  },
  {
   "cell_type": "markdown",
   "id": "77ccedad",
   "metadata": {},
   "source": [
    "### Driver Initialisation"
   ]
  },
  {
   "cell_type": "code",
   "execution_count": 5,
   "id": "939bb749",
   "metadata": {},
   "outputs": [],
   "source": [
    "driver = GraphDatabase.driver(\n",
    "    uri,\n",
    "    auth=basic_auth(username, password),\n",
    ")"
   ]
  },
  {
   "cell_type": "markdown",
   "id": "fab8f09b",
   "metadata": {},
   "source": [
    "### Create Nodes"
   ]
  },
  {
   "cell_type": "code",
   "execution_count": 6,
   "id": "b3fc96b7",
   "metadata": {},
   "outputs": [
    {
     "name": "stdout",
     "output_type": "stream",
     "text": [
      "Account ID: A123, Risk Rating: High\n",
      "Account ID: B456, Risk Rating: Medium\n",
      "Account ID: C789, Risk Rating: Low\n"
     ]
    }
   ],
   "source": [
    "with driver.session() as session:\n",
    "    result = session.run(\n",
    "        \"\"\"\n",
    "        WITH [\n",
    "            {account_id: 'A123', risk_rating: 'High'},\n",
    "            {account_id: 'B456', risk_rating: 'Medium'},\n",
    "            {account_id: 'C789', risk_rating: 'Low'}\n",
    "        ] AS accountData\n",
    "        UNWIND accountData AS a\n",
    "        CREATE (acc:Account {id: a.account_id, risk_rating: a.risk_rating})\n",
    "        RETURN acc.id AS Account, acc.risk_rating AS RiskRating\n",
    "        \"\"\"    \n",
    "    )\n",
    "\n",
    "    for record in result:\n",
    "        account_id = record[\"Account\"]\n",
    "        risk_rating = record[\"RiskRating\"]\n",
    "        print(f\"Account ID: {account_id}, Risk Rating: {risk_rating}\")\n"
   ]
  }
 ],
 "metadata": {
  "kernelspec": {
   "display_name": "venv",
   "language": "python",
   "name": "python3"
  },
  "language_info": {
   "codemirror_mode": {
    "name": "ipython",
    "version": 3
   },
   "file_extension": ".py",
   "mimetype": "text/x-python",
   "name": "python",
   "nbconvert_exporter": "python",
   "pygments_lexer": "ipython3",
   "version": "3.11.0"
  }
 },
 "nbformat": 4,
 "nbformat_minor": 5
}
