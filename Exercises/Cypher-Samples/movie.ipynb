{
 "cells": [
  {
   "cell_type": "markdown",
   "id": "c928d885",
   "metadata": {},
   "source": [
    "## Import Libraries"
   ]
  },
  {
   "cell_type": "code",
   "execution_count": 1,
   "id": "2f1e35b0",
   "metadata": {},
   "outputs": [],
   "source": [
    "import os\n",
    "import webbrowser\n",
    "from neo4j import GraphDatabase\n",
    "from pyvis.network import Network\n",
    "from selenium import webdriver\n",
    "from selenium.webdriver.chrome.options import Options\n",
    "from PIL import Image\n",
    "import time"
   ]
  },
  {
   "cell_type": "markdown",
   "id": "b931074f",
   "metadata": {},
   "source": [
    "## Load Data"
   ]
  },
  {
   "cell_type": "code",
   "execution_count": 2,
   "id": "97acb2b9",
   "metadata": {},
   "outputs": [],
   "source": [
    "# Load config from file\n",
    "def load_neo4j_config(filepath):\n",
    "    config = {}\n",
    "    with open(filepath, 'r') as file:\n",
    "        for line in file:\n",
    "            if '=' in line:\n",
    "                key, value = line.strip().split('=', 1)\n",
    "                config[key] = value\n",
    "    return config"
   ]
  },
  {
   "cell_type": "code",
   "execution_count": 3,
   "id": "91b20bca",
   "metadata": {},
   "outputs": [],
   "source": [
    "# Load credentials from the file\n",
    "config = load_neo4j_config(\"../../Encryption/movie-config.txt\")"
   ]
  },
  {
   "cell_type": "code",
   "execution_count": 4,
   "id": "3d70fe76",
   "metadata": {},
   "outputs": [],
   "source": [
    "# Assign values\n",
    "uri = config.get(\"NEO4J_URI\")\n",
    "username = config.get(\"NEO4J_USERNAME\")\n",
    "password = config.get(\"NEO4J_PASSWORD\")"
   ]
  },
  {
   "cell_type": "markdown",
   "id": "07a0a572",
   "metadata": {},
   "source": [
    "## Cypher Code"
   ]
  },
  {
   "cell_type": "code",
   "execution_count": 5,
   "id": "d46b71c0",
   "metadata": {},
   "outputs": [],
   "source": [
    "driver = GraphDatabase.driver(uri, auth=(username, password))"
   ]
  },
  {
   "cell_type": "code",
   "execution_count": 6,
   "id": "c6676bb7",
   "metadata": {},
   "outputs": [],
   "source": [
    "cypher = \"\"\"\n",
    "MATCH (p:Person {name: $name})-[r:ACTED_IN]->(m:Movie)\n",
    "RETURN m.title AS title, r.role AS role\n",
    "\"\"\"\n",
    "name = \"Tom Hanks\"\n",
    "\n",
    "records, summary, keys = driver.execute_query( # (1)\n",
    "    cypher,    # (2)\n",
    "    name=name  # (3)\n",
    ")"
   ]
  },
  {
   "cell_type": "code",
   "execution_count": 7,
   "id": "1abbc574",
   "metadata": {},
   "outputs": [
    {
     "name": "stdout",
     "output_type": "stream",
     "text": [
      "['title', 'role']\n"
     ]
    }
   ],
   "source": [
    "print(keys)"
   ]
  },
  {
   "cell_type": "code",
   "execution_count": 8,
   "id": "304309f8",
   "metadata": {},
   "outputs": [
    {
     "name": "stdout",
     "output_type": "stream",
     "text": [
      "Query Summary:\n",
      "Query Type: r\n",
      "Query Text: \n",
      "MATCH (p:Person {name: $name})-[r:ACTED_IN]->(m:Movie)\n",
      "RETURN m.title AS title, r.role AS role\n",
      "\n",
      "\n",
      "Counters:\n",
      "\n",
      "Query Plan:\n",
      "No plan available.\n",
      "\n",
      "Profiled Plan:\n",
      "No profile available.\n"
     ]
    }
   ],
   "source": [
    "print(\"Query Summary:\")\n",
    "print(\"Query Type:\", summary.query_type)\n",
    "print(\"Query Text:\", summary.query)\n",
    "\n",
    "print(\"\\nCounters:\")\n",
    "for key, value in summary.counters.__dict__.items():\n",
    "    if value:  # Only show non-zero counters\n",
    "        print(f\"{key}: {value}\")\n",
    "\n",
    "print(\"\\nQuery Plan:\")\n",
    "if summary.plan:\n",
    "    print(summary.plan)  # or use summary.plan.operator_type for plan root operator\n",
    "else:\n",
    "    print(\"No plan available.\")\n",
    "\n",
    "print(\"\\nProfiled Plan:\")\n",
    "if summary.profile:\n",
    "    print(summary.profile)  # or access attributes like profile.operator_type\n",
    "else:\n",
    "    print(\"No profile available.\")"
   ]
  },
  {
   "cell_type": "code",
   "execution_count": 9,
   "id": "64d4f262",
   "metadata": {},
   "outputs": [
    {
     "name": "stdout",
     "output_type": "stream",
     "text": [
      "****************************************\n",
      "Title: Punchline\n",
      "Role: Steven Gold\n",
      "****************************************\n",
      "****************************************\n",
      "Title: Catch Me If You Can\n",
      "Role: Carl Hanratty\n",
      "****************************************\n",
      "****************************************\n",
      "Title: Dragnet\n",
      "Role: Pep Streebeck\n",
      "****************************************\n",
      "****************************************\n",
      "Title: Saving Mr. Banks\n",
      "Role: Walt Disney\n",
      "****************************************\n",
      "****************************************\n",
      "Title: Bachelor Party\n",
      "Role: Rick Gassko\n",
      "****************************************\n",
      "****************************************\n",
      "Title: Volunteers\n",
      "Role: Lawrence Whatley Bourne III\n",
      "****************************************\n",
      "****************************************\n",
      "Title: Man with One Red Shoe, The\n",
      "Role: Richard Harlan Drew\n",
      "****************************************\n",
      "****************************************\n",
      "Title: Splash\n",
      "Role: Allen Bauer\n",
      "****************************************\n",
      "****************************************\n",
      "Title: Big\n",
      "Role: Joshua \"Josh\" Baskin\n",
      "****************************************\n",
      "****************************************\n",
      "Title: Nothing in Common\n",
      "Role: David Basner\n",
      "****************************************\n",
      "****************************************\n",
      "Title: Money Pit, The\n",
      "Role: Walter Fielding, Jr.\n",
      "****************************************\n",
      "****************************************\n",
      "Title: Toy Story of Terror\n",
      "Role: Woody (Voice)\n",
      "****************************************\n",
      "****************************************\n",
      "Title: Captain Phillips\n",
      "Role: Captain Richard Phillips\n",
      "****************************************\n",
      "****************************************\n",
      "Title: Larry Crowne\n",
      "Role: Larry Crowne\n",
      "****************************************\n",
      "****************************************\n",
      "Title: Cloud Atlas\n",
      "Role: Dr. Henry Goose / Hotel Manager / Isaac Sachs / Dermot Hoggins / Cavendish Look-a-Like Actor / Zachry\n",
      "****************************************\n",
      "****************************************\n",
      "Title: Angels & Demons\n",
      "Role: Robert Langdon\n",
      "****************************************\n",
      "****************************************\n",
      "Title: Extremely Loud and Incredibly Close\n",
      "Role: Thomas Schell\n",
      "****************************************\n",
      "****************************************\n",
      "Title: Charlie Wilson's War\n",
      "Role: Charlie Wilson\n",
      "****************************************\n",
      "****************************************\n",
      "Title: Toy Story 3\n",
      "Role: Woody (voice)\n",
      "****************************************\n",
      "****************************************\n",
      "Title: From the Earth to the Moon\n",
      "Role: None\n",
      "****************************************\n",
      "****************************************\n",
      "Title: Green Mile, The\n",
      "Role: Paul Edgecomb\n",
      "****************************************\n",
      "****************************************\n",
      "Title: Saving Private Ryan\n",
      "Role: Captain John H. Miller\n",
      "****************************************\n",
      "****************************************\n",
      "Title: Toy Story 2\n",
      "Role: Woody (voice)\n",
      "****************************************\n",
      "****************************************\n",
      "Title: Apollo 13\n",
      "Role: Jim Lovell\n",
      "****************************************\n",
      "****************************************\n",
      "Title: Toy Story\n",
      "Role: Woody (voice)\n",
      "****************************************\n",
      "****************************************\n",
      "Title: League of Their Own, A\n",
      "Role: Jimmy Dugan - Manager\n",
      "****************************************\n",
      "****************************************\n",
      "Title: Forrest Gump\n",
      "Role: Forrest Gump\n",
      "****************************************\n",
      "****************************************\n",
      "Title: Philadelphia\n",
      "Role: Andrew Beckett\n",
      "****************************************\n",
      "****************************************\n",
      "Title: Sleepless in Seattle\n",
      "Role: Sam Baldwin\n",
      "****************************************\n",
      "****************************************\n",
      "Title: Turner & Hooch\n",
      "Role: Scott Turner\n",
      "****************************************\n",
      "****************************************\n",
      "Title: 'burbs, The\n",
      "Role: Ray Peterson\n",
      "****************************************\n",
      "****************************************\n",
      "Title: Joe Versus the Volcano\n",
      "Role: Joe Banks\n",
      "****************************************\n",
      "****************************************\n",
      "Title: Bonfire of the Vanities\n",
      "Role: Sherman McCoy\n",
      "****************************************\n",
      "****************************************\n",
      "Title: Terminal, The\n",
      "Role: Viktor Navorski\n",
      "****************************************\n",
      "****************************************\n",
      "Title: Da Vinci Code, The\n",
      "Role: Robert Langdon\n",
      "****************************************\n",
      "****************************************\n",
      "Title: Polar Express, The\n",
      "Role: Hero Boy / Father / Conductor / Hobo / Scrooge / Santa Claus (voice)\n",
      "****************************************\n",
      "****************************************\n",
      "Title: Ladykillers, The\n",
      "Role: Professor G.H. Dorr\n",
      "****************************************\n",
      "****************************************\n",
      "Title: You've Got Mail\n",
      "Role: Joe Fox\n",
      "****************************************\n"
     ]
    }
   ],
   "source": [
    "# RETURN m.title AS title, r.role AS role\n",
    "for record in records:\n",
    "    print(\"*\" * 40)\n",
    "    print(f\"Title: {record['title']}\")\n",
    "    print(f\"Role: {record['role']}\")\n",
    "    print(\"*\" * 40)"
   ]
  },
  {
   "cell_type": "code",
   "execution_count": 10,
   "id": "0251991a",
   "metadata": {},
   "outputs": [],
   "source": [
    "cypher = \"\"\"\n",
    "MATCH (m:Movie {title: $title})<-[:ACTED_IN]-(p)\n",
    "RETURN p.name AS actor\n",
    "\"\"\"\n",
    "params = {\"title\": \"Toy Story\"}\n",
    "\n",
    "res, summary, keys = driver.execute_query(\n",
    "\n",
    "    cypher,\n",
    "    **params\n",
    ")"
   ]
  },
  {
   "cell_type": "code",
   "execution_count": 11,
   "id": "2c8c7ff6",
   "metadata": {},
   "outputs": [
    {
     "name": "stdout",
     "output_type": "stream",
     "text": [
      "Jim Varney\n",
      "Tim Allen\n",
      "Tom Hanks\n",
      "Don Rickles\n"
     ]
    }
   ],
   "source": [
    "for record in res:\n",
    "    print(record[\"actor\"])"
   ]
  }
 ],
 "metadata": {
  "kernelspec": {
   "display_name": "venv",
   "language": "python",
   "name": "python3"
  },
  "language_info": {
   "codemirror_mode": {
    "name": "ipython",
    "version": 3
   },
   "file_extension": ".py",
   "mimetype": "text/x-python",
   "name": "python",
   "nbconvert_exporter": "python",
   "pygments_lexer": "ipython3",
   "version": "3.11.0"
  }
 },
 "nbformat": 4,
 "nbformat_minor": 5
}
