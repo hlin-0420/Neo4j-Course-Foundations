{
 "cells": [
  {
   "cell_type": "markdown",
   "id": "3ec7478c",
   "metadata": {},
   "source": [
    "## Import Libraries"
   ]
  },
  {
   "cell_type": "code",
   "execution_count": 1,
   "id": "64563c17",
   "metadata": {},
   "outputs": [],
   "source": [
    "from neo4j import GraphDatabase"
   ]
  },
  {
   "cell_type": "markdown",
   "id": "92c03194",
   "metadata": {},
   "source": [
    "## Database Configuration"
   ]
  },
  {
   "cell_type": "code",
   "execution_count": 2,
   "id": "a82bb9e3",
   "metadata": {},
   "outputs": [],
   "source": [
    "# Load config from file\n",
    "def load_neo4j_config(filepath):\n",
    "    config = {}\n",
    "    with open(filepath, 'r') as file:\n",
    "        for line in file:\n",
    "            if '=' in line:\n",
    "                key, value = line.strip().split('=', 1)\n",
    "                config[key] = value\n",
    "    return config"
   ]
  },
  {
   "cell_type": "code",
   "execution_count": 3,
   "id": "df2e17e6",
   "metadata": {},
   "outputs": [],
   "source": [
    "# Load credentials from the file\n",
    "config = load_neo4j_config(\"../../Encryption/Stack Overflow Sandbox Credentials.txt\")"
   ]
  },
  {
   "cell_type": "code",
   "execution_count": 4,
   "id": "6adad5ea",
   "metadata": {},
   "outputs": [],
   "source": [
    "# Assign values\n",
    "uri = config.get(\"NEO4J_URI\")\n",
    "username = config.get(\"NEO4J_USERNAME\")\n",
    "password = config.get(\"NEO4J_PASSWORD\")\n",
    "database = config.get(\"NEO4J_DATABASE\", \"neo4j\")"
   ]
  },
  {
   "cell_type": "markdown",
   "id": "65920191",
   "metadata": {},
   "source": [
    "## Database Class"
   ]
  },
  {
   "cell_type": "code",
   "execution_count": 5,
   "id": "b4fe0c02",
   "metadata": {},
   "outputs": [],
   "source": [
    "class CypherTester:\n",
    "\n",
    "    def __init__(self, uri, user, password):\n",
    "        self.driver = GraphDatabase.driver(uri, auth=(user, password))\n",
    "\n",
    "    def close(self):\n",
    "        self.driver.close()\n",
    "\n",
    "    def initialise_graph(self):\n",
    "        with self.driver.session() as session:\n",
    "            session.run(\"MATCH (n) DETACH DELETE n\") # Clear any existing data from the database.\n",
    "\n",
    "            session.run(\"\"\"\n",
    "                CREATE (john: Person {name: \"John\"})\n",
    "                CREATE (steve: Person {name: \"Steve\"})\n",
    "                CREATE (sally: Person {name: \"Sally\"})\n",
    "                CREATE (graphs: Topic {name: \"Graph\"})\n",
    "                CREATE (neo: Company {name: \"Neo4j\"})\n",
    "                CREATE (sally) - [:IS_FRIENDS_WITH] -> (john)\n",
    "                CREATE (sally) - [:IS_FRIENDS_WITH] -> (steve)\n",
    "                CREATE (sally) - [:LIKES] -> (graphs)\n",
    "                CREATE (sally) - [:WORKS_FOR] -> (neo)            \n",
    "            \"\"\"\n",
    "            )\n",
    "\n",
    "            print(\"Graph Initialised\")\n",
    "\n",
    "    def run_query(self, query):\n",
    "        with self.driver.session() as session:\n",
    "            result = session.run(query)\n",
    "            data_list = [record.values() for record in result]\n",
    "            return ', '.join([item for sublist in data_list for item in sublist])\n",
    "\n",
    "    # Test queries from earlier\n",
    "    def test_friend_of_sally(self):\n",
    "        query = \"\"\"\n",
    "        MATCH (s:Person {name: 'Sally'})-[:IS_FRIENDS_WITH]->(friend)\n",
    "        RETURN friend.name\n",
    "        \"\"\"\n",
    "        return self.run_query(query)\n",
    "\n",
    "    def test_sally_employer(self):\n",
    "        query = \"\"\"\n",
    "        MATCH (s:Person {name: 'Sally'})-[:WORKS_FOR]->(company)\n",
    "        RETURN company.name\n",
    "        \"\"\"\n",
    "        return self.run_query(query)\n",
    "\n",
    "    def test_sally_likes_not_john(self):\n",
    "        query = \"\"\"\n",
    "        MATCH (s:Person {name: 'Sally'})-[:LIKES]->(thing)\n",
    "        WHERE NOT thing.name = 'John'\n",
    "        RETURN thing.name\n",
    "        \"\"\"\n",
    "        return self.run_query(query)\n",
    "\n",
    "    def test_likes_graphs(self):\n",
    "        query = \"\"\"\n",
    "        MATCH (p)-[:LIKES]->(t {name: 'Graph'})\n",
    "        RETURN p.name\n",
    "        \"\"\"\n",
    "        return self.run_query(query)\n",
    "\n",
    "    def test_friends_work_for_neo4j(self):\n",
    "        query = \"\"\"\n",
    "        MATCH (s:Person {name: 'Sally'})-[:IS_FRIENDS_WITH]->(friend)-[:WORKS_FOR]->(company {name: 'Neo4j'})\n",
    "        RETURN friend.name\n",
    "        \"\"\"\n",
    "        return self.run_query(query)"
   ]
  },
  {
   "cell_type": "code",
   "execution_count": 6,
   "id": "3ae7278c",
   "metadata": {},
   "outputs": [
    {
     "name": "stdout",
     "output_type": "stream",
     "text": [
      "Graph Initialised\n",
      "Sally's friends: John, Steve\n"
     ]
    }
   ],
   "source": [
    "tester = CypherTester(uri, username, password)\n",
    "\n",
    "tester.initialise_graph()\n",
    "print(f\"Sally's friends: {tester.test_friend_of_sally()}\")"
   ]
  },
  {
   "cell_type": "code",
   "execution_count": 7,
   "id": "3b42e7a3",
   "metadata": {},
   "outputs": [
    {
     "name": "stdout",
     "output_type": "stream",
     "text": [
      "Where Sally works: Neo4j\n"
     ]
    }
   ],
   "source": [
    "print(\"Where Sally works:\", tester.test_sally_employer())"
   ]
  },
  {
   "cell_type": "code",
   "execution_count": 8,
   "id": "f0490d7f",
   "metadata": {},
   "outputs": [
    {
     "name": "stdout",
     "output_type": "stream",
     "text": [
      "Who likes Graphs: Sally\n"
     ]
    }
   ],
   "source": [
    "print(\"Who likes Graphs:\", tester.test_likes_graphs())"
   ]
  }
 ],
 "metadata": {
  "kernelspec": {
   "display_name": "venv",
   "language": "python",
   "name": "python3"
  },
  "language_info": {
   "codemirror_mode": {
    "name": "ipython",
    "version": 3
   },
   "file_extension": ".py",
   "mimetype": "text/x-python",
   "name": "python",
   "nbconvert_exporter": "python",
   "pygments_lexer": "ipython3",
   "version": "3.11.0"
  }
 },
 "nbformat": 4,
 "nbformat_minor": 5
}
