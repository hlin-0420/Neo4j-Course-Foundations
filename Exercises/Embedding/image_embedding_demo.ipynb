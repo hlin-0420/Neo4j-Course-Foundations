{
 "cells": [
  {
   "cell_type": "markdown",
   "id": "436aeb2f",
   "metadata": {},
   "source": [
    "## Idea 1"
   ]
  },
  {
   "cell_type": "code",
   "execution_count": null,
   "id": "8b746f29",
   "metadata": {},
   "outputs": [],
   "source": [
    "from io import BytesIO\n",
    "\n",
    "import requests\n",
    "from PIL import Image\n",
    "from sentence_transformers import SentenceTransformer"
   ]
  },
  {
   "cell_type": "code",
   "execution_count": null,
   "id": "97d693b6",
   "metadata": {},
   "outputs": [],
   "source": [
    "response = requests.get(\n",
    "    \"https://github.com/PacktPublishing/LLM-Engineering/blob/main/images/crazy_cat.jpg?raw=true\"\n",
    ")"
   ]
  },
  {
   "cell_type": "code",
   "execution_count": null,
   "id": "df0c247e",
   "metadata": {},
   "outputs": [],
   "source": [
    "image = Image.open(BytesIO(response.content))"
   ]
  },
  {
   "cell_type": "code",
   "execution_count": null,
   "id": "b9fd33f1",
   "metadata": {},
   "outputs": [],
   "source": [
    "model = SentenceTransformer(\"clip-Vit-B-32\")"
   ]
  },
  {
   "cell_type": "code",
   "execution_count": null,
   "id": "7f71a86c",
   "metadata": {},
   "outputs": [],
   "source": [
    "img_embed = model.encode(image)\n",
    "\n",
    "text_embed = model.encode([\n",
    "    \"A crazy cat smiling\",\n",
    "    \"A white and brown cat with a yellow banana\",\n",
    "    \"A man eating in the garden\"\n",
    "])"
   ]
  },
  {
   "cell_type": "code",
   "execution_count": null,
   "id": "91082ffb",
   "metadata": {},
   "outputs": [],
   "source": [
    "print(text_embed.shape)"
   ]
  },
  {
   "cell_type": "code",
   "execution_count": null,
   "id": "6d9402fe",
   "metadata": {},
   "outputs": [],
   "source": [
    "similarity_scores = model.similarity(img_embed, text_embed)"
   ]
  },
  {
   "cell_type": "code",
   "execution_count": null,
   "id": "fe7b3308",
   "metadata": {},
   "outputs": [],
   "source": [
    "similarity_scores"
   ]
  },
  {
   "cell_type": "markdown",
   "id": "28bcb6a8",
   "metadata": {},
   "source": [
    "## Idea 2"
   ]
  },
  {
   "cell_type": "code",
   "execution_count": 1,
   "id": "64ee2305",
   "metadata": {},
   "outputs": [],
   "source": [
    "import torch\n",
    "import clip\n",
    "from PIL import Image"
   ]
  },
  {
   "cell_type": "code",
   "execution_count": 2,
   "id": "39ec0264",
   "metadata": {},
   "outputs": [],
   "source": [
    "device = \"cuda\" if torch.cuda.is_available() else \"cpu\"\n",
    "model, preprocess = clip.load(\"ViT-B/32\", device=device)"
   ]
  },
  {
   "cell_type": "code",
   "execution_count": 3,
   "id": "78f004d1",
   "metadata": {},
   "outputs": [],
   "source": [
    "image = preprocess(Image.open(\"../../Images/Cyclist.png\")).unsqueeze(0).to(device)"
   ]
  },
  {
   "cell_type": "code",
   "execution_count": 4,
   "id": "443cb36c",
   "metadata": {},
   "outputs": [],
   "source": [
    "# Text descriptions\n",
    "texts = [\"a cyclist\", \"a sunny beach\", \"a painting of a castle\", \"a woman cyclist\", \"A cyclist cruises along the canal on a crisp autumn afternoon.\"]\n",
    "text_tokens = clip.tokenize(texts).to(device)"
   ]
  },
  {
   "cell_type": "code",
   "execution_count": 5,
   "id": "0d698daa",
   "metadata": {},
   "outputs": [],
   "source": [
    "with torch.no_grad():\n",
    "    image_features = model.encode_image(image)\n",
    "    text_features = model.encode_text(text_tokens)"
   ]
  },
  {
   "cell_type": "code",
   "execution_count": 6,
   "id": "655870ba",
   "metadata": {},
   "outputs": [],
   "source": [
    "image_features /= image_features.norm(dim=-1, keepdim=True)\n",
    "text_features /= text_features.norm(dim=-1, keepdim=True)"
   ]
  },
  {
   "cell_type": "code",
   "execution_count": 7,
   "id": "b4d77a5c",
   "metadata": {},
   "outputs": [
    {
     "name": "stdout",
     "output_type": "stream",
     "text": [
      "a cyclist: 0.3110\n",
      "a sunny beach: 0.2058\n",
      "a painting of a castle: 0.1813\n",
      "a woman cyclist: 0.3324\n",
      "A cyclist cruises along the canal on a crisp autumn afternoon.: 0.3265\n"
     ]
    }
   ],
   "source": [
    "similarity = (image_features @ text_features.T).squeeze(0)\n",
    "for desc, score in zip(texts, similarity):\n",
    "    print(f\"{desc}: {score.item():.4f}\")"
   ]
  },
  {
   "cell_type": "code",
   "execution_count": 8,
   "id": "ebe98031",
   "metadata": {},
   "outputs": [
    {
     "name": "stdout",
     "output_type": "stream",
     "text": [
      "✔️ Match: 'a cyclist' (Score: 0.3110)\n",
      "❌ Not a good match: 'a sunny beach' (Score: 0.2058)\n",
      "❌ Not a good match: 'a painting of a castle' (Score: 0.1813)\n",
      "✔️ Match: 'a woman cyclist' (Score: 0.3324)\n",
      "✔️ Match: 'A cyclist cruises along the canal on a crisp autumn afternoon.' (Score: 0.3265)\n"
     ]
    }
   ],
   "source": [
    "threshold = 0.30\n",
    "for desc, score in zip(texts, similarity):\n",
    "    if score > threshold:\n",
    "        print(f\"✔️ Match: '{desc}' (Score: {score:.4f})\")\n",
    "    else:\n",
    "        print(f\"❌ Not a good match: '{desc}' (Score: {score:.4f})\")"
   ]
  }
 ],
 "metadata": {
  "kernelspec": {
   "display_name": "venv",
   "language": "python",
   "name": "python3"
  },
  "language_info": {
   "codemirror_mode": {
    "name": "ipython",
    "version": 3
   },
   "file_extension": ".py",
   "mimetype": "text/x-python",
   "name": "python",
   "nbconvert_exporter": "python",
   "pygments_lexer": "ipython3",
   "version": "3.11.0"
  }
 },
 "nbformat": 4,
 "nbformat_minor": 5
}
