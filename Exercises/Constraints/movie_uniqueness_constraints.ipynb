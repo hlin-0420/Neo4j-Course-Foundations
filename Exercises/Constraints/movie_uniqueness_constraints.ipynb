{
 "cells": [
  {
   "cell_type": "markdown",
   "id": "4e42646c",
   "metadata": {},
   "source": [
    "## Import Libraries"
   ]
  },
  {
   "cell_type": "code",
   "execution_count": 1,
   "id": "c776efbb",
   "metadata": {},
   "outputs": [],
   "source": [
    "import os\n",
    "import webbrowser\n",
    "from neo4j import GraphDatabase\n",
    "from pyvis.network import Network\n",
    "from selenium import webdriver\n",
    "from selenium.webdriver.chrome.options import Options\n",
    "from PIL import Image\n",
    "import time"
   ]
  },
  {
   "cell_type": "markdown",
   "id": "aa6a3b08",
   "metadata": {},
   "source": [
    "## Load Data"
   ]
  },
  {
   "cell_type": "code",
   "execution_count": 2,
   "id": "59e0badd",
   "metadata": {},
   "outputs": [],
   "source": [
    "# Load config from file\n",
    "def load_neo4j_config(filepath):\n",
    "    config = {}\n",
    "    with open(filepath, 'r') as file:\n",
    "        for line in file:\n",
    "            if '=' in line:\n",
    "                key, value = line.strip().split('=', 1)\n",
    "                config[key] = value\n",
    "    return config"
   ]
  },
  {
   "cell_type": "code",
   "execution_count": 3,
   "id": "29231bb9",
   "metadata": {},
   "outputs": [],
   "source": [
    "# Load credentials from the file\n",
    "config = load_neo4j_config(\"../../Encryption/movie-config.txt\")"
   ]
  },
  {
   "cell_type": "code",
   "execution_count": 4,
   "id": "c0938e84",
   "metadata": {},
   "outputs": [],
   "source": [
    "# Assign values\n",
    "uri = config.get(\"NEO4J_URI\")\n",
    "username = config.get(\"NEO4J_USERNAME\")\n",
    "password = config.get(\"NEO4J_PASSWORD\")"
   ]
  },
  {
   "cell_type": "markdown",
   "id": "8ce30fbd",
   "metadata": {},
   "source": [
    "## Implement Constraints\n",
    "\n",
    "### Goals\n",
    "\n",
    "1. For the **Person** nodes:\n",
    "   - `constraint_name` : **Person_tmdbId_unique**\n",
    "   - `node_label` : **Person**\n",
    "   - `property_key` : **tmdbId**\n",
    "\n",
    "2. For the **User** nodes:\n",
    "   - `constraint_name` : **User_userId_unique**\n",
    "   - `node_label` : **User**\n",
    "   - `property_key` : **userId**\n",
    "\n",
    "3. For the **Genre** nodes:\n",
    "   - `constraint_name` : **Genre_name_unique**\n",
    "   - `node_label` : **Genre**\n",
    "   - `property_key` : **name**\n",
    "\n",
    "### Purpose:\n",
    "- Ensure unique constraints for the key properties of each node type.\n",
    "- Maintain data integrity in the graph database.\n",
    "- Facilitate efficient queries and avoid duplication of entities."
   ]
  },
  {
   "cell_type": "code",
   "execution_count": 5,
   "id": "f4442e1f",
   "metadata": {},
   "outputs": [],
   "source": [
    "driver = GraphDatabase.driver(uri, auth=(username, password))"
   ]
  },
  {
   "cell_type": "code",
   "execution_count": 6,
   "id": "8b07e9f0",
   "metadata": {},
   "outputs": [],
   "source": [
    "def create_constraints(tx):\n",
    "    tx.run(\"\"\"\n",
    "        CREATE CONSTRAINT Movie_movieId_unique IF NOT EXISTS FOR (x:Movie) REQUIRE x.movieId IS UNIQUE\n",
    "    \"\"\")\n",
    "\n",
    "    tx.run(\"\"\"\n",
    "        CREATE CONSTRAINT Person_tmdbId_unique IF NOT EXISTS FOR (p:Person) REQUIRE p.tmdbId IS UNIQUE\n",
    "    \"\"\")\n",
    "\n",
    "    tx.run(\"\"\"\n",
    "        CREATE CONSTRAINT User_userId_unique IF NOT EXISTS FOR (u:User) REQUIRE u.userId IS UNIQUE\n",
    "    \"\"\")\n",
    "\n",
    "    tx.run(\"\"\"\n",
    "        CREATE CONSTRAINT Genre_name_unique IF NOT EXISTS FOR (g:Genre) REQUIRE g.name IS UNIQUE\n",
    "    \"\"\")\n"
   ]
  },
  {
   "cell_type": "code",
   "execution_count": 7,
   "id": "f36017c5",
   "metadata": {},
   "outputs": [],
   "source": [
    "with driver.session() as session:\n",
    "    session.execute_write(create_constraints)"
   ]
  },
  {
   "cell_type": "code",
   "execution_count": 8,
   "id": "e922b577",
   "metadata": {},
   "outputs": [],
   "source": [
    "# Define the queries\n",
    "queries = [\n",
    "    \"\"\"\n",
    "    MATCH (p:Person)\n",
    "    WHERE p.name IS NOT NULL\n",
    "    RETURN p, id(p)\n",
    "    \"\"\",\n",
    "    \"\"\"\n",
    "    MATCH (p:Person)\n",
    "    WHERE p.name IS NULL\n",
    "    SET p.name = \"Unknown\"\n",
    "    \"\"\",\n",
    "    \"\"\"\n",
    "    CREATE CONSTRAINT Movie_title_exists IF NOT EXISTS\n",
    "    FOR (m:Movie)\n",
    "    REQUIRE m.title IS NOT NULL\n",
    "    \"\"\",\n",
    "    \"\"\"\n",
    "    CREATE CONSTRAINT User_name_exists IF NOT EXISTS\n",
    "    FOR (u:User)\n",
    "    REQUIRE u.name IS NOT NULL\n",
    "    \"\"\",\n",
    "    \"\"\"\n",
    "    CREATE CONSTRAINT Person_name_exists IF NOT EXISTS\n",
    "    FOR (x:Person)\n",
    "    REQUIRE x.name IS NOT NULL\n",
    "    \"\"\"\n",
    "]"
   ]
  },
  {
   "cell_type": "code",
   "execution_count": null,
   "id": "1971a22e",
   "metadata": {},
   "outputs": [],
   "source": [
    "# Execute queries\n",
    "with driver.session() as session:\n",
    "    for query in queries:\n",
    "        result = session.run(query)\n",
    "        if result.peek():  # Only for queries with RETURN\n",
    "            for record in result:\n",
    "                print(record)"
   ]
  }
 ],
 "metadata": {
  "kernelspec": {
   "display_name": "venv",
   "language": "python",
   "name": "python3"
  },
  "language_info": {
   "codemirror_mode": {
    "name": "ipython",
    "version": 3
   },
   "file_extension": ".py",
   "mimetype": "text/x-python",
   "name": "python",
   "nbconvert_exporter": "python",
   "pygments_lexer": "ipython3",
   "version": "3.11.0"
  }
 },
 "nbformat": 4,
 "nbformat_minor": 5
}
