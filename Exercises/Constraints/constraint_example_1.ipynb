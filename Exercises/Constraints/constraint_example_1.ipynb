{
 "cells": [
  {
   "cell_type": "markdown",
   "id": "74e030a0",
   "metadata": {},
   "source": [
    "## Import Libraries"
   ]
  },
  {
   "cell_type": "code",
   "execution_count": 1,
   "id": "7f7248bd",
   "metadata": {},
   "outputs": [],
   "source": [
    "import os\n",
    "import webbrowser\n",
    "from neo4j import GraphDatabase\n",
    "from pyvis.network import Network\n",
    "from selenium import webdriver\n",
    "from selenium.webdriver.chrome.options import Options\n",
    "from PIL import Image\n",
    "import time"
   ]
  },
  {
   "cell_type": "markdown",
   "id": "3ab66858",
   "metadata": {},
   "source": [
    "## Load Data"
   ]
  },
  {
   "cell_type": "code",
   "execution_count": 2,
   "id": "2c7f01f2",
   "metadata": {},
   "outputs": [],
   "source": [
    "# Load config from file\n",
    "def load_neo4j_config(filepath):\n",
    "    config = {}\n",
    "    with open(filepath, 'r') as file:\n",
    "        for line in file:\n",
    "            if '=' in line:\n",
    "                key, value = line.strip().split('=', 1)\n",
    "                config[key] = value\n",
    "    return config"
   ]
  },
  {
   "cell_type": "code",
   "execution_count": 3,
   "id": "22c0c152",
   "metadata": {},
   "outputs": [],
   "source": [
    "# Load credentials from the file\n",
    "config = load_neo4j_config(\"../../Encryption/Blank-Sandbox.txt\")"
   ]
  },
  {
   "cell_type": "code",
   "execution_count": 4,
   "id": "90271ac4",
   "metadata": {},
   "outputs": [],
   "source": [
    "# Assign values\n",
    "uri = config.get(\"NEO4J_URI\")\n",
    "username = config.get(\"NEO4J_USERNAME\")\n",
    "password = config.get(\"NEO4J_PASSWORD\")"
   ]
  },
  {
   "cell_type": "markdown",
   "id": "0f7f3a86",
   "metadata": {},
   "source": [
    "## Graph Initialisation"
   ]
  },
  {
   "cell_type": "code",
   "execution_count": 5,
   "id": "47c83f7d",
   "metadata": {},
   "outputs": [],
   "source": [
    "driver = GraphDatabase.driver(uri, auth=(username, password))"
   ]
  },
  {
   "cell_type": "code",
   "execution_count": 6,
   "id": "4a114966",
   "metadata": {},
   "outputs": [],
   "source": [
    "# Function to create graph data\n",
    "def create_graph(tx):\n",
    "    # Create places\n",
    "    tx.run(\"MERGE (:Place {city: 'Berlin', country: 'DE'})\")\n",
    "    tx.run(\"MERGE (:Place {city: 'London', country: 'UK'})\")\n",
    "\n",
    "    # Create people\n",
    "    tx.run(\"MERGE (:Person {name: 'Rosa', gender: 'f'})\")\n",
    "    tx.run(\"MERGE (:Person {name: 'Karl', age: 64})\")\n",
    "    tx.run(\"MERGE (:Person {name: 'Fred'})\")\n",
    "\n",
    "    # Create relationships\n",
    "    tx.run(\"\"\"\n",
    "    MATCH (p:Person {name: 'Rosa'}), (c:Place {city: 'Berlin'})\n",
    "    MERGE (p)-[:LIVES_IN {since: 2020}]->(c)\n",
    "    \"\"\")\n",
    "\n",
    "    tx.run(\"\"\"\n",
    "    MATCH (p:Person {name: 'Karl'}), (c:Place {city: 'London'})\n",
    "    MERGE (p)-[:LIVES_IN {since: 1980}]->(c)\n",
    "    \"\"\")\n",
    "\n",
    "    tx.run(\"\"\"\n",
    "    MATCH (p:Person {name: 'Fred'}), (c:Place {city: 'London'})\n",
    "    MERGE (p)-[:LIVES_IN]->(c)\n",
    "    \"\"\")\n",
    "\n",
    "    tx.run(\"\"\"\n",
    "    MATCH (a:Person {name: 'Rosa'}), (b:Person {name: 'Karl'})\n",
    "    MERGE (a)-[:FRIEND]->(b)\n",
    "    \"\"\")\n",
    "\n",
    "    tx.run(\"\"\"\n",
    "    MATCH (a:Person {name: 'Karl'}), (b:Person {name: 'Fred'})\n",
    "    MERGE (a)-[:FRIEND]->(b)\n",
    "    \"\"\")\n",
    "\n",
    "    tx.run(\"\"\"\n",
    "    MATCH (a:Person {name: 'Fred'}), (b:Person {name: 'Karl'})\n",
    "    MERGE (a)-[:FRIEND]->(b)\n",
    "    \"\"\")"
   ]
  },
  {
   "cell_type": "markdown",
   "id": "dcbc9c53",
   "metadata": {},
   "source": [
    "## Constraints"
   ]
  },
  {
   "cell_type": "markdown",
   "id": "11f78adb",
   "metadata": {},
   "source": [
    "### Define Constraints"
   ]
  },
  {
   "cell_type": "code",
   "execution_count": 7,
   "id": "d12cd0ba",
   "metadata": {},
   "outputs": [],
   "source": [
    "# Create the graph\n",
    "with driver.session() as session:\n",
    "    session.execute_write(create_graph)"
   ]
  },
  {
   "cell_type": "code",
   "execution_count": 8,
   "id": "25dd8c25",
   "metadata": {},
   "outputs": [],
   "source": [
    "def create_uniqueness_constraints(tx):\n",
    "    # Uniqueness constraint for Person.name\n",
    "    tx.run(\"CREATE CONSTRAINT unique_person_name IF NOT EXISTS FOR (p:Person) REQUIRE p.name IS UNIQUE\")\n",
    "    \n",
    "    # Uniqueness constraint for Place.city\n",
    "    tx.run(\"CREATE CONSTRAINT unique_place_city IF NOT EXISTS FOR (c:Place) REQUIRE c.city IS UNIQUE\")"
   ]
  },
  {
   "cell_type": "code",
   "execution_count": 9,
   "id": "e628b2ad",
   "metadata": {},
   "outputs": [],
   "source": [
    "with driver.session() as session:\n",
    "    session.execute_write(create_uniqueness_constraints)"
   ]
  },
  {
   "cell_type": "markdown",
   "id": "22e48473",
   "metadata": {},
   "source": [
    "### Constraints Visualisation"
   ]
  },
  {
   "cell_type": "code",
   "execution_count": 10,
   "id": "424e2666",
   "metadata": {},
   "outputs": [],
   "source": [
    "def show_constraints(tx):\n",
    "    result = tx.run(\"SHOW CONSTRAINTS\")\n",
    "\n",
    "    for record in result:\n",
    "        print(record)"
   ]
  },
  {
   "cell_type": "code",
   "execution_count": 11,
   "id": "6376ebfd",
   "metadata": {},
   "outputs": [
    {
     "name": "stdout",
     "output_type": "stream",
     "text": [
      "<Record id=4 name='unique_person_name' type='UNIQUENESS' entityType='NODE' labelsOrTypes=['Person'] properties=['name'] ownedIndex='unique_person_name' propertyType=None>\n",
      "<Record id=5 name='unique_place_city' type='UNIQUENESS' entityType='NODE' labelsOrTypes=['Place'] properties=['city'] ownedIndex='unique_place_city' propertyType=None>\n"
     ]
    }
   ],
   "source": [
    "with driver.session() as session:\n",
    "    session.execute_read(show_constraints)"
   ]
  },
  {
   "cell_type": "code",
   "execution_count": 12,
   "id": "c376c8a2",
   "metadata": {},
   "outputs": [],
   "source": [
    "import pandas as pd\n",
    "from tabulate import tabulate"
   ]
  },
  {
   "cell_type": "code",
   "execution_count": 13,
   "id": "62b94d94",
   "metadata": {},
   "outputs": [],
   "source": [
    "def get_constraints(tx):\n",
    "    result = tx.run(\"SHOW CONSTRAINTS\")\n",
    "    constraints = []\n",
    "    for record in result:\n",
    "        constraints.append({\n",
    "            \"name\": record[\"name\"],\n",
    "            \"type\": record[\"type\"],\n",
    "            \"entityType\": record[\"entityType\"],\n",
    "            \"labelsOrTypes\": record[\"labelsOrTypes\"],\n",
    "            \"properties\": record[\"properties\"]\n",
    "        })\n",
    "    return constraints"
   ]
  },
  {
   "cell_type": "code",
   "execution_count": 14,
   "id": "82f7afba",
   "metadata": {},
   "outputs": [],
   "source": [
    "with driver.session() as session:\n",
    "    constraints_data = session.execute_read(get_constraints)"
   ]
  },
  {
   "cell_type": "code",
   "execution_count": 15,
   "id": "abbb197f",
   "metadata": {},
   "outputs": [],
   "source": [
    "df = pd.DataFrame(constraints_data)"
   ]
  },
  {
   "cell_type": "code",
   "execution_count": 16,
   "id": "9f7c7429",
   "metadata": {},
   "outputs": [
    {
     "name": "stdout",
     "output_type": "stream",
     "text": [
      "+----+--------------------+------------+--------------+-----------------+--------------+\n",
      "|    | name               | type       | entityType   | labelsOrTypes   | properties   |\n",
      "|----+--------------------+------------+--------------+-----------------+--------------|\n",
      "|  0 | unique_person_name | UNIQUENESS | NODE         | ['Person']      | ['name']     |\n",
      "|  1 | unique_place_city  | UNIQUENESS | NODE         | ['Place']       | ['city']     |\n",
      "+----+--------------------+------------+--------------+-----------------+--------------+\n"
     ]
    }
   ],
   "source": [
    "# Pretty print using tabulate\n",
    "print(tabulate(df, headers='keys', tablefmt='psql'))"
   ]
  }
 ],
 "metadata": {
  "kernelspec": {
   "display_name": "venv",
   "language": "python",
   "name": "python3"
  },
  "language_info": {
   "codemirror_mode": {
    "name": "ipython",
    "version": 3
   },
   "file_extension": ".py",
   "mimetype": "text/x-python",
   "name": "python",
   "nbconvert_exporter": "python",
   "pygments_lexer": "ipython3",
   "version": "3.11.0"
  }
 },
 "nbformat": 4,
 "nbformat_minor": 5
}
